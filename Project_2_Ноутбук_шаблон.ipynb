{
  "cells": [
    {
      "attachments": {},
      "cell_type": "markdown",
      "id": "42289889-bd57-434e-9637-d3e354756316",
      "metadata": {
        "id": "42289889-bd57-434e-9637-d3e354756316"
      },
      "source": [
        "<center> <img src = https://raw.githubusercontent.com/AndreyRysistov/DatasetsForPandas/main/hh%20label.jpg alt=\"drawing\" style=\"width:400px;\">"
      ]
    },
    {
      "attachments": {},
      "cell_type": "markdown",
      "id": "829cb75b-f14e-4ba8-9195-7ba929a7d656",
      "metadata": {
        "id": "829cb75b-f14e-4ba8-9195-7ba929a7d656",
        "tags": []
      },
      "source": [
        "# <center> Проект: Анализ вакансий из HeadHunter\n",
        "   "
      ]
    },
    {
      "cell_type": "code",
      "execution_count": 1,
      "id": "dccfde33-2452-43fb-a8a5-5c6ebc02a71d",
      "metadata": {
        "id": "dccfde33-2452-43fb-a8a5-5c6ebc02a71d"
      },
      "outputs": [],
      "source": [
        "import pandas as pd\n",
        "import psycopg2"
      ]
    },
    {
      "cell_type": "code",
      "execution_count": 2,
      "id": "oVKH4ehvf8Ay",
      "metadata": {
        "id": "oVKH4ehvf8Ay"
      },
      "outputs": [],
      "source": [
        "# вставьте сюда параметры подключения из юнита 1. Работа с базой данных из Python \n",
        "# данные удалены перед фиксацией работы в GitHub\n",
        "DBNAME = '*'\n",
        "USER = '*'\n",
        "PASSWORD = '*'\n",
        "HOST = '*'\n",
        "PORT = *"
      ]
    },
    {
      "cell_type": "code",
      "execution_count": 3,
      "id": "G4X_q8KBf7SF",
      "metadata": {
        "id": "G4X_q8KBf7SF"
      },
      "outputs": [],
      "source": [
        "connection = psycopg2.connect(\n",
        "    dbname=DBNAME,\n",
        "    user=USER,\n",
        "    host=HOST,\n",
        "    password=PASSWORD,\n",
        "    port=PORT\n",
        ")"
      ]
    },
    {
      "attachments": {},
      "cell_type": "markdown",
      "id": "0dc6476b-7a00-44f1-ac93-6e3baed33a29",
      "metadata": {
        "id": "0dc6476b-7a00-44f1-ac93-6e3baed33a29"
      },
      "source": [
        "# Юнит 3. Предварительный анализ данных"
      ]
    },
    {
      "attachments": {},
      "cell_type": "markdown",
      "id": "889782b6-8d1c-410e-8920-e57f27917c64",
      "metadata": {
        "id": "889782b6-8d1c-410e-8920-e57f27917c64"
      },
      "source": [
        "1. Напишите запрос, который посчитает количество вакансий в нашей базе (вакансии находятся в таблице vacancies). "
      ]
    },
    {
      "cell_type": "code",
      "execution_count": 4,
      "id": "bc39e68e-ed02-4ee2-9235-7258a2f867a8",
      "metadata": {
        "id": "bc39e68e-ed02-4ee2-9235-7258a2f867a8"
      },
      "outputs": [
        {
          "name": "stderr",
          "output_type": "stream",
          "text": [
            "/var/folders/72/b69zs3rx1vvdfb_qtlhy8szh0000gn/T/ipykernel_24704/2561306431.py:6: UserWarning: pandas only supports SQLAlchemy connectable (engine/connection) or database string URI or sqlite3 DBAPI2 connection. Other DBAPI2 objects are not tested. Please consider using SQLAlchemy.\n",
            "  number_id = pd.read_sql_query (query_3_1, connection)\n"
          ]
        }
      ],
      "source": [
        "# текст запроса\n",
        "\n",
        "query_3_1 = f'''select count(id)\n",
        "            from public.vacancies \n",
        "            '''\n",
        "number_id = pd.read_sql_query (query_3_1, connection)"
      ]
    },
    {
      "cell_type": "code",
      "execution_count": 5,
      "id": "7mAwtsk4hEHY",
      "metadata": {
        "id": "7mAwtsk4hEHY"
      },
      "outputs": [
        {
          "data": {
            "text/html": [
              "<div>\n",
              "<style scoped>\n",
              "    .dataframe tbody tr th:only-of-type {\n",
              "        vertical-align: middle;\n",
              "    }\n",
              "\n",
              "    .dataframe tbody tr th {\n",
              "        vertical-align: top;\n",
              "    }\n",
              "\n",
              "    .dataframe thead th {\n",
              "        text-align: right;\n",
              "    }\n",
              "</style>\n",
              "<table border=\"1\" class=\"dataframe\">\n",
              "  <thead>\n",
              "    <tr style=\"text-align: right;\">\n",
              "      <th></th>\n",
              "      <th>count</th>\n",
              "    </tr>\n",
              "  </thead>\n",
              "  <tbody>\n",
              "    <tr>\n",
              "      <th>0</th>\n",
              "      <td>49197</td>\n",
              "    </tr>\n",
              "  </tbody>\n",
              "</table>\n",
              "</div>"
            ],
            "text/plain": [
              "   count\n",
              "0  49197"
            ]
          },
          "execution_count": 5,
          "metadata": {},
          "output_type": "execute_result"
        }
      ],
      "source": [
        "# результат запроса\n",
        "number_id"
      ]
    },
    {
      "attachments": {},
      "cell_type": "markdown",
      "id": "b583485d-1f9e-494e-ada4-80ffff7c53d6",
      "metadata": {
        "id": "b583485d-1f9e-494e-ada4-80ffff7c53d6"
      },
      "source": [
        "2. Напишите запрос, который посчитает количество работодателей (таблица employers). "
      ]
    },
    {
      "cell_type": "code",
      "execution_count": 6,
      "id": "5408c52c-3407-4a63-b25b-1aafa2322d28",
      "metadata": {
        "id": "5408c52c-3407-4a63-b25b-1aafa2322d28"
      },
      "outputs": [
        {
          "name": "stderr",
          "output_type": "stream",
          "text": [
            "/var/folders/72/b69zs3rx1vvdfb_qtlhy8szh0000gn/T/ipykernel_24704/809978614.py:5: UserWarning: pandas only supports SQLAlchemy connectable (engine/connection) or database string URI or sqlite3 DBAPI2 connection. Other DBAPI2 objects are not tested. Please consider using SQLAlchemy.\n",
            "  number_employers = pd.read_sql_query (query_3_2, connection)\n"
          ]
        }
      ],
      "source": [
        "# текст запроса\n",
        "query_3_2 = f'''select count(id)\n",
        "            from employers\n",
        "            '''\n",
        "number_employers = pd.read_sql_query (query_3_2, connection)"
      ]
    },
    {
      "cell_type": "code",
      "execution_count": 7,
      "id": "jVL4eshKhdqc",
      "metadata": {
        "id": "jVL4eshKhdqc"
      },
      "outputs": [
        {
          "data": {
            "text/html": [
              "<div>\n",
              "<style scoped>\n",
              "    .dataframe tbody tr th:only-of-type {\n",
              "        vertical-align: middle;\n",
              "    }\n",
              "\n",
              "    .dataframe tbody tr th {\n",
              "        vertical-align: top;\n",
              "    }\n",
              "\n",
              "    .dataframe thead th {\n",
              "        text-align: right;\n",
              "    }\n",
              "</style>\n",
              "<table border=\"1\" class=\"dataframe\">\n",
              "  <thead>\n",
              "    <tr style=\"text-align: right;\">\n",
              "      <th></th>\n",
              "      <th>count</th>\n",
              "    </tr>\n",
              "  </thead>\n",
              "  <tbody>\n",
              "    <tr>\n",
              "      <th>0</th>\n",
              "      <td>23501</td>\n",
              "    </tr>\n",
              "  </tbody>\n",
              "</table>\n",
              "</div>"
            ],
            "text/plain": [
              "   count\n",
              "0  23501"
            ]
          },
          "execution_count": 7,
          "metadata": {},
          "output_type": "execute_result"
        }
      ],
      "source": [
        "# результат запроса\n",
        "number_employers"
      ]
    },
    {
      "attachments": {},
      "cell_type": "markdown",
      "id": "a2bfff1f-c975-4bf6-84be-2185d79dcb76",
      "metadata": {
        "id": "a2bfff1f-c975-4bf6-84be-2185d79dcb76"
      },
      "source": [
        "3. Посчитате с помощью запроса количество регионов (таблица areas)."
      ]
    },
    {
      "cell_type": "code",
      "execution_count": 8,
      "id": "1m8QJwBYhey6",
      "metadata": {
        "id": "1m8QJwBYhey6"
      },
      "outputs": [
        {
          "name": "stderr",
          "output_type": "stream",
          "text": [
            "/var/folders/72/b69zs3rx1vvdfb_qtlhy8szh0000gn/T/ipykernel_24704/155594491.py:5: UserWarning: pandas only supports SQLAlchemy connectable (engine/connection) or database string URI or sqlite3 DBAPI2 connection. Other DBAPI2 objects are not tested. Please consider using SQLAlchemy.\n",
            "  number_areas = pd.read_sql_query (query_3_3, connection)\n"
          ]
        }
      ],
      "source": [
        "# текст запроса\n",
        "query_3_3= f'''select count(id)\n",
        "            from areas\n",
        "            '''\n",
        "number_areas = pd.read_sql_query (query_3_3, connection)"
      ]
    },
    {
      "cell_type": "code",
      "execution_count": 9,
      "id": "EZsn9tlfhe7f",
      "metadata": {
        "id": "EZsn9tlfhe7f"
      },
      "outputs": [
        {
          "data": {
            "text/html": [
              "<div>\n",
              "<style scoped>\n",
              "    .dataframe tbody tr th:only-of-type {\n",
              "        vertical-align: middle;\n",
              "    }\n",
              "\n",
              "    .dataframe tbody tr th {\n",
              "        vertical-align: top;\n",
              "    }\n",
              "\n",
              "    .dataframe thead th {\n",
              "        text-align: right;\n",
              "    }\n",
              "</style>\n",
              "<table border=\"1\" class=\"dataframe\">\n",
              "  <thead>\n",
              "    <tr style=\"text-align: right;\">\n",
              "      <th></th>\n",
              "      <th>count</th>\n",
              "    </tr>\n",
              "  </thead>\n",
              "  <tbody>\n",
              "    <tr>\n",
              "      <th>0</th>\n",
              "      <td>1362</td>\n",
              "    </tr>\n",
              "  </tbody>\n",
              "</table>\n",
              "</div>"
            ],
            "text/plain": [
              "   count\n",
              "0   1362"
            ]
          },
          "execution_count": 9,
          "metadata": {},
          "output_type": "execute_result"
        }
      ],
      "source": [
        "# результат запроса\n",
        "number_areas"
      ]
    },
    {
      "attachments": {},
      "cell_type": "markdown",
      "id": "41bb59f3-53cc-4a67-a5bc-bedf573955e4",
      "metadata": {
        "id": "41bb59f3-53cc-4a67-a5bc-bedf573955e4"
      },
      "source": [
        "4. Посчитате с помощью запроса количество сфер деятельности в базе (таблица industries)."
      ]
    },
    {
      "cell_type": "code",
      "execution_count": 10,
      "id": "d286cf4c-707b-4cd2-9190-7ab3587d04a1",
      "metadata": {
        "id": "d286cf4c-707b-4cd2-9190-7ab3587d04a1"
      },
      "outputs": [
        {
          "name": "stderr",
          "output_type": "stream",
          "text": [
            "/var/folders/72/b69zs3rx1vvdfb_qtlhy8szh0000gn/T/ipykernel_24704/601532914.py:5: UserWarning: pandas only supports SQLAlchemy connectable (engine/connection) or database string URI or sqlite3 DBAPI2 connection. Other DBAPI2 objects are not tested. Please consider using SQLAlchemy.\n",
            "  number_industries = pd.read_sql_query (query_3_4, connection)\n"
          ]
        }
      ],
      "source": [
        "# текст запроса\n",
        "query_3_4= f'''select count(id)\n",
        "            from industries\n",
        "            '''\n",
        "number_industries = pd.read_sql_query (query_3_4, connection)"
      ]
    },
    {
      "cell_type": "code",
      "execution_count": 11,
      "id": "JYAaoZ4qhfzW",
      "metadata": {
        "id": "JYAaoZ4qhfzW"
      },
      "outputs": [
        {
          "data": {
            "text/html": [
              "<div>\n",
              "<style scoped>\n",
              "    .dataframe tbody tr th:only-of-type {\n",
              "        vertical-align: middle;\n",
              "    }\n",
              "\n",
              "    .dataframe tbody tr th {\n",
              "        vertical-align: top;\n",
              "    }\n",
              "\n",
              "    .dataframe thead th {\n",
              "        text-align: right;\n",
              "    }\n",
              "</style>\n",
              "<table border=\"1\" class=\"dataframe\">\n",
              "  <thead>\n",
              "    <tr style=\"text-align: right;\">\n",
              "      <th></th>\n",
              "      <th>count</th>\n",
              "    </tr>\n",
              "  </thead>\n",
              "  <tbody>\n",
              "    <tr>\n",
              "      <th>0</th>\n",
              "      <td>294</td>\n",
              "    </tr>\n",
              "  </tbody>\n",
              "</table>\n",
              "</div>"
            ],
            "text/plain": [
              "   count\n",
              "0    294"
            ]
          },
          "execution_count": 11,
          "metadata": {},
          "output_type": "execute_result"
        }
      ],
      "source": [
        "# результат запроса\n",
        "number_industries"
      ]
    },
    {
      "attachments": {},
      "cell_type": "markdown",
      "id": "9a8a2181-6914-448b-85f1-38f5f18b8a93",
      "metadata": {
        "id": "9a8a2181-6914-448b-85f1-38f5f18b8a93"
      },
      "source": [
        "***"
      ]
    },
    {
      "attachments": {},
      "cell_type": "markdown",
      "id": "77957810",
      "metadata": {},
      "source": [
        "# выводы по предварительному анализу данных\n",
        "На основе предварительного анализа уже можно сделать некоторые усредненые выводы, например:\n",
        "- В среднем каждый работодатель предлагает по 2 вакании, т к число представленных вакансий составляет 49197, а число работодателей 23591\n",
        "- Мы знаем, что количество сфер деятельности составляет 294 сферы, из этого следует, что в среднем в каждой сфере деятельности задействовано 80 компаний (23591/294), и на каждую сферу деятельности приходится 167 вакансий (49197/294) \n",
        "- В исходных данных представлена достаточно широкая георграфия регинов, всего 1362 региона. То есть в среднем в каждом регионе находится 17 компаний (23591/1362), и на каждый регион приходится по 36 вакансий(49197/1362).\n",
        "Очень важно учитывать, что все сделанные выводы усреднены и расчитываются, как среднее арифметическое, без учета возможных отклонений и выбросов. В полученных данных наверняка есть такие компании, которые представлены в меньшем количестве регионов и при этом нуждаются в закрытии более, чем двух вакансий. Поэтому переходит к следующему этапу: детальному анализу, и начнем с анализа вакансий."
      ]
    },
    {
      "attachments": {},
      "cell_type": "markdown",
      "id": "8d62a9f3-f64e-4fe7-bdac-c4dffa16155e",
      "metadata": {
        "id": "8d62a9f3-f64e-4fe7-bdac-c4dffa16155e"
      },
      "source": [
        "# Юнит 4. Детальный анализ вакансий"
      ]
    },
    {
      "attachments": {},
      "cell_type": "markdown",
      "id": "93053d3d-b284-481a-9cf7-012d7014c0e0",
      "metadata": {
        "id": "93053d3d-b284-481a-9cf7-012d7014c0e0"
      },
      "source": [
        "1. Напишите запрос, который позволит узнать, сколько (cnt) вакансий в каждом регионе (area).\n",
        "Отсортируйте по количеству вакансий в порядке убывания."
      ]
    },
    {
      "cell_type": "code",
      "execution_count": 12,
      "id": "3f069da6-fdc9-4ae7-b514-fafe2675efd3",
      "metadata": {
        "id": "3f069da6-fdc9-4ae7-b514-fafe2675efd3"
      },
      "outputs": [
        {
          "name": "stderr",
          "output_type": "stream",
          "text": [
            "/var/folders/72/b69zs3rx1vvdfb_qtlhy8szh0000gn/T/ipykernel_24704/3509178149.py:12: UserWarning: pandas only supports SQLAlchemy connectable (engine/connection) or database string URI or sqlite3 DBAPI2 connection. Other DBAPI2 objects are not tested. Please consider using SQLAlchemy.\n",
            "  vacancy_for_area = pd.read_sql_query (query_4_1, connection)\n"
          ]
        }
      ],
      "source": [
        "# текст запроса\n",
        "query_4_1= f''' \n",
        "            select \n",
        "            a.name area,\n",
        "            count(v.id) cnt\n",
        "            from public.vacancies v\n",
        "            join areas a on a.id = v.area_id\n",
        "            group by 1\n",
        "            order by 2 desc\n",
        "            limit 5\n",
        "            '''\n",
        "vacancy_for_area = pd.read_sql_query (query_4_1, connection)\n"
      ]
    },
    {
      "cell_type": "code",
      "execution_count": 13,
      "id": "P7QL86hrjhRJ",
      "metadata": {
        "id": "P7QL86hrjhRJ"
      },
      "outputs": [
        {
          "data": {
            "text/html": [
              "<div>\n",
              "<style scoped>\n",
              "    .dataframe tbody tr th:only-of-type {\n",
              "        vertical-align: middle;\n",
              "    }\n",
              "\n",
              "    .dataframe tbody tr th {\n",
              "        vertical-align: top;\n",
              "    }\n",
              "\n",
              "    .dataframe thead th {\n",
              "        text-align: right;\n",
              "    }\n",
              "</style>\n",
              "<table border=\"1\" class=\"dataframe\">\n",
              "  <thead>\n",
              "    <tr style=\"text-align: right;\">\n",
              "      <th></th>\n",
              "      <th>area</th>\n",
              "      <th>cnt</th>\n",
              "    </tr>\n",
              "  </thead>\n",
              "  <tbody>\n",
              "    <tr>\n",
              "      <th>0</th>\n",
              "      <td>Москва</td>\n",
              "      <td>5333</td>\n",
              "    </tr>\n",
              "    <tr>\n",
              "      <th>1</th>\n",
              "      <td>Санкт-Петербург</td>\n",
              "      <td>2851</td>\n",
              "    </tr>\n",
              "    <tr>\n",
              "      <th>2</th>\n",
              "      <td>Минск</td>\n",
              "      <td>2112</td>\n",
              "    </tr>\n",
              "    <tr>\n",
              "      <th>3</th>\n",
              "      <td>Новосибирск</td>\n",
              "      <td>2006</td>\n",
              "    </tr>\n",
              "    <tr>\n",
              "      <th>4</th>\n",
              "      <td>Алматы</td>\n",
              "      <td>1892</td>\n",
              "    </tr>\n",
              "  </tbody>\n",
              "</table>\n",
              "</div>"
            ],
            "text/plain": [
              "              area   cnt\n",
              "0           Москва  5333\n",
              "1  Санкт-Петербург  2851\n",
              "2            Минск  2112\n",
              "3      Новосибирск  2006\n",
              "4           Алматы  1892"
            ]
          },
          "execution_count": 13,
          "metadata": {},
          "output_type": "execute_result"
        }
      ],
      "source": [
        "# результат запроса\n",
        "vacancy_for_area"
      ]
    },
    {
      "attachments": {},
      "cell_type": "markdown",
      "id": "4266f0b6-1646-492a-88b4-2f6a46502135",
      "metadata": {
        "id": "4266f0b6-1646-492a-88b4-2f6a46502135"
      },
      "source": [
        "2. Напишите запрос, чтобы определить у какого количества вакансий заполнено хотя бы одно из двух полей с зарплатой."
      ]
    },
    {
      "cell_type": "code",
      "execution_count": 14,
      "id": "0c44b350-72eb-4d65-8b54-a1fc449ba9fd",
      "metadata": {
        "id": "0c44b350-72eb-4d65-8b54-a1fc449ba9fd"
      },
      "outputs": [
        {
          "name": "stderr",
          "output_type": "stream",
          "text": [
            "/var/folders/72/b69zs3rx1vvdfb_qtlhy8szh0000gn/T/ipykernel_24704/1887227621.py:8: UserWarning: pandas only supports SQLAlchemy connectable (engine/connection) or database string URI or sqlite3 DBAPI2 connection. Other DBAPI2 objects are not tested. Please consider using SQLAlchemy.\n",
            "  number_not_null = pd.read_sql_query (query_4_2, connection)\n"
          ]
        }
      ],
      "source": [
        "# текст запроса\n",
        "query_4_2= f''' \n",
        "            select \n",
        "            count(v.id)\n",
        "            from public.vacancies v\n",
        "            where (v.salary_from is not null) or (v.salary_to is not null) \n",
        "            '''\n",
        "number_not_null = pd.read_sql_query (query_4_2, connection)"
      ]
    },
    {
      "cell_type": "code",
      "execution_count": 15,
      "id": "rhvwaMDkoWTi",
      "metadata": {
        "id": "rhvwaMDkoWTi"
      },
      "outputs": [
        {
          "data": {
            "text/html": [
              "<div>\n",
              "<style scoped>\n",
              "    .dataframe tbody tr th:only-of-type {\n",
              "        vertical-align: middle;\n",
              "    }\n",
              "\n",
              "    .dataframe tbody tr th {\n",
              "        vertical-align: top;\n",
              "    }\n",
              "\n",
              "    .dataframe thead th {\n",
              "        text-align: right;\n",
              "    }\n",
              "</style>\n",
              "<table border=\"1\" class=\"dataframe\">\n",
              "  <thead>\n",
              "    <tr style=\"text-align: right;\">\n",
              "      <th></th>\n",
              "      <th>count</th>\n",
              "    </tr>\n",
              "  </thead>\n",
              "  <tbody>\n",
              "    <tr>\n",
              "      <th>0</th>\n",
              "      <td>24073</td>\n",
              "    </tr>\n",
              "  </tbody>\n",
              "</table>\n",
              "</div>"
            ],
            "text/plain": [
              "   count\n",
              "0  24073"
            ]
          },
          "execution_count": 15,
          "metadata": {},
          "output_type": "execute_result"
        }
      ],
      "source": [
        "# результат запроса\n",
        "number_not_null"
      ]
    },
    {
      "attachments": {},
      "cell_type": "markdown",
      "id": "635c4d5d-f323-4c66-b428-50a088120aa0",
      "metadata": {
        "id": "635c4d5d-f323-4c66-b428-50a088120aa0"
      },
      "source": [
        "3. Найдите средние значения для нижней и верхней границы зарплатной вилки. Округлите значения до целого."
      ]
    },
    {
      "cell_type": "code",
      "execution_count": 16,
      "id": "603cdbe4-0ec3-4106-8eaf-c73fcdd29165",
      "metadata": {
        "id": "603cdbe4-0ec3-4106-8eaf-c73fcdd29165"
      },
      "outputs": [
        {
          "name": "stderr",
          "output_type": "stream",
          "text": [
            "/var/folders/72/b69zs3rx1vvdfb_qtlhy8szh0000gn/T/ipykernel_24704/3374161757.py:8: UserWarning: pandas only supports SQLAlchemy connectable (engine/connection) or database string URI or sqlite3 DBAPI2 connection. Other DBAPI2 objects are not tested. Please consider using SQLAlchemy.\n",
            "  middle = pd.read_sql_query (query_4_3, connection)\n"
          ]
        }
      ],
      "source": [
        "# текст запроса\n",
        "query_4_3= f''' \n",
        "            select \n",
        "            avg(v.salary_from) min_avg,\n",
        "            avg(v.salary_to) max_avg\n",
        "            from public.vacancies v\n",
        "            '''\n",
        "middle = pd.read_sql_query (query_4_3, connection)"
      ]
    },
    {
      "cell_type": "code",
      "execution_count": 17,
      "id": "pswpAb66ovZZ",
      "metadata": {
        "id": "pswpAb66ovZZ"
      },
      "outputs": [
        {
          "data": {
            "text/html": [
              "<div>\n",
              "<style scoped>\n",
              "    .dataframe tbody tr th:only-of-type {\n",
              "        vertical-align: middle;\n",
              "    }\n",
              "\n",
              "    .dataframe tbody tr th {\n",
              "        vertical-align: top;\n",
              "    }\n",
              "\n",
              "    .dataframe thead th {\n",
              "        text-align: right;\n",
              "    }\n",
              "</style>\n",
              "<table border=\"1\" class=\"dataframe\">\n",
              "  <thead>\n",
              "    <tr style=\"text-align: right;\">\n",
              "      <th></th>\n",
              "      <th>min_avg</th>\n",
              "      <th>max_avg</th>\n",
              "    </tr>\n",
              "  </thead>\n",
              "  <tbody>\n",
              "    <tr>\n",
              "      <th>0</th>\n",
              "      <td>71065.0</td>\n",
              "      <td>110537.0</td>\n",
              "    </tr>\n",
              "  </tbody>\n",
              "</table>\n",
              "</div>"
            ],
            "text/plain": [
              "   min_avg   max_avg\n",
              "0  71065.0  110537.0"
            ]
          },
          "execution_count": 17,
          "metadata": {},
          "output_type": "execute_result"
        }
      ],
      "source": [
        "# результат запроса\n",
        "round(middle)"
      ]
    },
    {
      "attachments": {},
      "cell_type": "markdown",
      "id": "f3fdaec9-5fd3-4260-9cf5-1d7406b628a5",
      "metadata": {
        "id": "f3fdaec9-5fd3-4260-9cf5-1d7406b628a5"
      },
      "source": [
        "4. Напишите запрос, который выведет количество вакансий для каждого сочетания типа рабочего графика (schedule) и типа трудоустройства (employment), используемого в вакансиях. Результат отсортируйте по убыванию количества.\n"
      ]
    },
    {
      "cell_type": "code",
      "execution_count": 18,
      "id": "1ea710ec-871b-431e-9462-c7d0fd87011b",
      "metadata": {
        "id": "1ea710ec-871b-431e-9462-c7d0fd87011b"
      },
      "outputs": [
        {
          "name": "stderr",
          "output_type": "stream",
          "text": [
            "/var/folders/72/b69zs3rx1vvdfb_qtlhy8szh0000gn/T/ipykernel_24704/2439440176.py:12: UserWarning: pandas only supports SQLAlchemy connectable (engine/connection) or database string URI or sqlite3 DBAPI2 connection. Other DBAPI2 objects are not tested. Please consider using SQLAlchemy.\n",
            "  popular = pd.read_sql_query (query_4_4, connection)\n"
          ]
        }
      ],
      "source": [
        "# текст запроса\n",
        "query_4_4= f''' \n",
        "            select \n",
        "            v.schedule,\n",
        "            v.employment,\n",
        "            count(v.id)\n",
        "            from public.vacancies v\n",
        "            group by 1,2\n",
        "            order by 3 desc\n",
        "            offset 1 limit 1\n",
        "            '''\n",
        "popular = pd.read_sql_query (query_4_4, connection)"
      ]
    },
    {
      "cell_type": "code",
      "execution_count": 19,
      "id": "lGUVqavdo4JQ",
      "metadata": {
        "id": "lGUVqavdo4JQ"
      },
      "outputs": [
        {
          "data": {
            "text/html": [
              "<div>\n",
              "<style scoped>\n",
              "    .dataframe tbody tr th:only-of-type {\n",
              "        vertical-align: middle;\n",
              "    }\n",
              "\n",
              "    .dataframe tbody tr th {\n",
              "        vertical-align: top;\n",
              "    }\n",
              "\n",
              "    .dataframe thead th {\n",
              "        text-align: right;\n",
              "    }\n",
              "</style>\n",
              "<table border=\"1\" class=\"dataframe\">\n",
              "  <thead>\n",
              "    <tr style=\"text-align: right;\">\n",
              "      <th></th>\n",
              "      <th>schedule</th>\n",
              "      <th>employment</th>\n",
              "      <th>count</th>\n",
              "    </tr>\n",
              "  </thead>\n",
              "  <tbody>\n",
              "    <tr>\n",
              "      <th>0</th>\n",
              "      <td>Удаленная работа</td>\n",
              "      <td>Полная занятость</td>\n",
              "      <td>7802</td>\n",
              "    </tr>\n",
              "  </tbody>\n",
              "</table>\n",
              "</div>"
            ],
            "text/plain": [
              "           schedule        employment  count\n",
              "0  Удаленная работа  Полная занятость   7802"
            ]
          },
          "execution_count": 19,
          "metadata": {},
          "output_type": "execute_result"
        }
      ],
      "source": [
        "# результат запроса\n",
        "popular"
      ]
    },
    {
      "attachments": {},
      "cell_type": "markdown",
      "id": "0136ffee-0ead-4a6b-b608-61d1c753a438",
      "metadata": {
        "id": "0136ffee-0ead-4a6b-b608-61d1c753a438"
      },
      "source": [
        "5. Напишите запрос, выводящий значения поля Требуемый опыт работы (experience) в порядке возрастания количества вакансий, в которых указан данный вариант опыта. "
      ]
    },
    {
      "cell_type": "code",
      "execution_count": 20,
      "id": "5b3a8e79-f7ab-4008-b767-12aea3a205ea",
      "metadata": {
        "id": "5b3a8e79-f7ab-4008-b767-12aea3a205ea"
      },
      "outputs": [
        {
          "name": "stderr",
          "output_type": "stream",
          "text": [
            "/var/folders/72/b69zs3rx1vvdfb_qtlhy8szh0000gn/T/ipykernel_24704/4012871940.py:10: UserWarning: pandas only supports SQLAlchemy connectable (engine/connection) or database string URI or sqlite3 DBAPI2 connection. Other DBAPI2 objects are not tested. Please consider using SQLAlchemy.\n",
            "  experience_for_job = pd.read_sql_query (query_4_5, connection)\n"
          ]
        }
      ],
      "source": [
        "# текст запроса\n",
        "query_4_5= f''' \n",
        "            select \n",
        "            v.experience,\n",
        "            count(v.id)\n",
        "            from public.vacancies v\n",
        "            group by 1\n",
        "            order by 2 asc\n",
        "            '''\n",
        "experience_for_job = pd.read_sql_query (query_4_5, connection)"
      ]
    },
    {
      "cell_type": "code",
      "execution_count": 21,
      "id": "3Is64Y-hpDpq",
      "metadata": {
        "id": "3Is64Y-hpDpq"
      },
      "outputs": [
        {
          "data": {
            "text/html": [
              "<div>\n",
              "<style scoped>\n",
              "    .dataframe tbody tr th:only-of-type {\n",
              "        vertical-align: middle;\n",
              "    }\n",
              "\n",
              "    .dataframe tbody tr th {\n",
              "        vertical-align: top;\n",
              "    }\n",
              "\n",
              "    .dataframe thead th {\n",
              "        text-align: right;\n",
              "    }\n",
              "</style>\n",
              "<table border=\"1\" class=\"dataframe\">\n",
              "  <thead>\n",
              "    <tr style=\"text-align: right;\">\n",
              "      <th></th>\n",
              "      <th>experience</th>\n",
              "      <th>count</th>\n",
              "    </tr>\n",
              "  </thead>\n",
              "  <tbody>\n",
              "    <tr>\n",
              "      <th>0</th>\n",
              "      <td>Более 6 лет</td>\n",
              "      <td>1337</td>\n",
              "    </tr>\n",
              "    <tr>\n",
              "      <th>1</th>\n",
              "      <td>Нет опыта</td>\n",
              "      <td>7197</td>\n",
              "    </tr>\n",
              "    <tr>\n",
              "      <th>2</th>\n",
              "      <td>От 3 до 6 лет</td>\n",
              "      <td>14511</td>\n",
              "    </tr>\n",
              "    <tr>\n",
              "      <th>3</th>\n",
              "      <td>От 1 года до 3 лет</td>\n",
              "      <td>26152</td>\n",
              "    </tr>\n",
              "  </tbody>\n",
              "</table>\n",
              "</div>"
            ],
            "text/plain": [
              "           experience  count\n",
              "0         Более 6 лет   1337\n",
              "1           Нет опыта   7197\n",
              "2       От 3 до 6 лет  14511\n",
              "3  От 1 года до 3 лет  26152"
            ]
          },
          "execution_count": 21,
          "metadata": {},
          "output_type": "execute_result"
        }
      ],
      "source": [
        "# результат запроса\n",
        "experience_for_job"
      ]
    },
    {
      "attachments": {},
      "cell_type": "markdown",
      "id": "oq2b7n1QpIka",
      "metadata": {
        "id": "oq2b7n1QpIka"
      },
      "source": [
        "***"
      ]
    },
    {
      "attachments": {},
      "cell_type": "markdown",
      "id": "e8204869",
      "metadata": {},
      "source": [
        "# выводы по детальному анализу вакансий\n",
        "На основе детального анализа вакансий можно сделать следующие выводы: \n",
        "- Ожидаемо, наибоильшое число вакансий приходится на крупные административные центры и города-миллионники такие, как Москва (наибольшее число вакансий - 5333 вакансий), Санкт-Петербург, Новосибирск и пр.\n",
        "- Чуть меньше половины работодателей (24073 из 49197) предоставили информацию об ожидаемом уровне зарплаты. Данный фактор наталкивает на мысль, что половина работодателей не торопится объявлять з/п и будет лишь по итогам собеседования оценивать соискателя, что свидетельствует о перенасыщении рынка специалистов IT- направления, что в свою очередь позволяет работодателю диктовать условия найма.  \n",
        "- Предыдущий вывод важно учитывать при дальнейшем анализе зарплаты, т к половина компаний предпочла скрыть информацию об уровне з/п, что будет влиять на дальнейшие расчеты такие, как максимальный и минимальный уровень заработной платы. В нашем случае средние значения составляют 110537 и 71065 соответственно, что дает соискателю понимание на, что он может расчитывать, только начиная свой профессиональный путь, и чего может достигнуть в будущем. Опять же здесь надо помнить, что мы рассматриваем средние значения и вилка зарплаты будеть отличаться в зависимости от региона, опыта соискателя и условий работы\n",
        "- Говоря об условиях работы, работодатели очевидно заинтересованы в полной занятости для соискателей и полном их рабочем дне или удаленной работе (на втором месте по популярности запроса), что уменьшает шансы для молодых срециалистов или студентов в получении работы. Данная картина типична для российского рынка, для которого не характерны такие типы трудоустройства, как гибкий график или проектная работа.\n",
        "- Ну и конечно, большую роль играет имеющийся у соискателя опыт работы. И здесь отрадно видеть, что комнапии достаточно лояльны и готовы рассматривать на позицию соискателей с опытом от 1 года до 3 лет (что соответствует уровню middle. На эту позицию приходится наибольшее количество запросов и составляет 26152 вакансии). Также работодатели предлагают работу и для людей без опыта (7197 вакансий), что все же дает надежду начинающему специалисту начать свой путь и приуспеть в этом деле."
      ]
    },
    {
      "attachments": {},
      "cell_type": "markdown",
      "id": "7ea20ab6-04a7-40a0-adec-443a0e5a42c3",
      "metadata": {
        "id": "7ea20ab6-04a7-40a0-adec-443a0e5a42c3"
      },
      "source": [
        "# Юнит 5. Анализ работодателей"
      ]
    },
    {
      "attachments": {},
      "cell_type": "markdown",
      "id": "968aed80-74ef-4ffb-b5bf-c65b84e9caea",
      "metadata": {
        "id": "968aed80-74ef-4ffb-b5bf-c65b84e9caea"
      },
      "source": [
        "1. Напишите запрос, который позволит узнать, какие работодатели находятся на первом и пятом месте по количеству вакансий."
      ]
    },
    {
      "cell_type": "code",
      "execution_count": 22,
      "id": "f2d62796-d400-4ec1-a675-88112739a50e",
      "metadata": {
        "id": "f2d62796-d400-4ec1-a675-88112739a50e"
      },
      "outputs": [
        {
          "name": "stderr",
          "output_type": "stream",
          "text": [
            "/var/folders/72/b69zs3rx1vvdfb_qtlhy8szh0000gn/T/ipykernel_24704/2719448729.py:22: UserWarning: pandas only supports SQLAlchemy connectable (engine/connection) or database string URI or sqlite3 DBAPI2 connection. Other DBAPI2 objects are not tested. Please consider using SQLAlchemy.\n",
            "  popular_employers = pd.read_sql_query (query_5_1, connection)\n"
          ]
        }
      ],
      "source": [
        "# текст запроса\n",
        "query_5_1= f''' \n",
        "            (select \n",
        "            e.name,\n",
        "            count(v.id)\n",
        "            from employers e\n",
        "            join public.vacancies v on e.id = v.employer_id\n",
        "            group by 1\n",
        "            order by 2 desc\n",
        "            limit 1)\n",
        "            union\n",
        "            (select \n",
        "            e.name,\n",
        "            count(v.id)\n",
        "            from employers e\n",
        "            join public.vacancies v on e.id = v.employer_id\n",
        "            group by 1\n",
        "            order by 2 desc\n",
        "            offset 4 limit 1)\n",
        "            order by 2 desc\n",
        "            '''\n",
        "popular_employers = pd.read_sql_query (query_5_1, connection)"
      ]
    },
    {
      "cell_type": "code",
      "execution_count": 23,
      "id": "64tOMkAxqkQk",
      "metadata": {
        "id": "64tOMkAxqkQk"
      },
      "outputs": [
        {
          "data": {
            "text/html": [
              "<div>\n",
              "<style scoped>\n",
              "    .dataframe tbody tr th:only-of-type {\n",
              "        vertical-align: middle;\n",
              "    }\n",
              "\n",
              "    .dataframe tbody tr th {\n",
              "        vertical-align: top;\n",
              "    }\n",
              "\n",
              "    .dataframe thead th {\n",
              "        text-align: right;\n",
              "    }\n",
              "</style>\n",
              "<table border=\"1\" class=\"dataframe\">\n",
              "  <thead>\n",
              "    <tr style=\"text-align: right;\">\n",
              "      <th></th>\n",
              "      <th>name</th>\n",
              "      <th>count</th>\n",
              "    </tr>\n",
              "  </thead>\n",
              "  <tbody>\n",
              "    <tr>\n",
              "      <th>0</th>\n",
              "      <td>Яндекс</td>\n",
              "      <td>1933</td>\n",
              "    </tr>\n",
              "    <tr>\n",
              "      <th>1</th>\n",
              "      <td>Газпром нефть</td>\n",
              "      <td>331</td>\n",
              "    </tr>\n",
              "  </tbody>\n",
              "</table>\n",
              "</div>"
            ],
            "text/plain": [
              "            name  count\n",
              "0         Яндекс   1933\n",
              "1  Газпром нефть    331"
            ]
          },
          "execution_count": 23,
          "metadata": {},
          "output_type": "execute_result"
        }
      ],
      "source": [
        "# результат запроса\n",
        "popular_employers"
      ]
    },
    {
      "attachments": {},
      "cell_type": "markdown",
      "id": "68377cfc-b378-43dc-ab7d-1195abf2c515",
      "metadata": {
        "id": "68377cfc-b378-43dc-ab7d-1195abf2c515"
      },
      "source": [
        "2. Напишите запрос, который для каждого региона выведет количество работодателей и вакансий в нём.\n",
        "Среди регионов, в которых нет вакансий, найдите тот, в котором наибольшее количество работодателей.\n"
      ]
    },
    {
      "cell_type": "code",
      "execution_count": 24,
      "id": "dd7df27a-e3e8-412e-a21a-5d389b71e891",
      "metadata": {
        "id": "dd7df27a-e3e8-412e-a21a-5d389b71e891"
      },
      "outputs": [
        {
          "name": "stderr",
          "output_type": "stream",
          "text": [
            "/var/folders/72/b69zs3rx1vvdfb_qtlhy8szh0000gn/T/ipykernel_24704/2118341075.py:13: UserWarning: pandas only supports SQLAlchemy connectable (engine/connection) or database string URI or sqlite3 DBAPI2 connection. Other DBAPI2 objects are not tested. Please consider using SQLAlchemy.\n",
            "  popular_area = pd.read_sql_query (query_5_2, connection)\n"
          ]
        }
      ],
      "source": [
        "# текст запроса\n",
        "query_5_2 = f''' \n",
        "               select a.name,\n",
        "               count(distinct e.id) number_employers,\n",
        "               count(distinct v.id) number_vacancies\n",
        "               from areas a\n",
        "               left join employers e on a.id = e.area\n",
        "               left join vacancies v on v.area_id = a.id\n",
        "               where v.id is null\n",
        "               group by a.id\n",
        "               order by 2 desc\n",
        "               '''\n",
        "popular_area = pd.read_sql_query (query_5_2, connection)"
      ]
    },
    {
      "cell_type": "code",
      "execution_count": 25,
      "id": "x1ikWbydrbf6",
      "metadata": {
        "id": "x1ikWbydrbf6"
      },
      "outputs": [
        {
          "data": {
            "text/html": [
              "<div>\n",
              "<style scoped>\n",
              "    .dataframe tbody tr th:only-of-type {\n",
              "        vertical-align: middle;\n",
              "    }\n",
              "\n",
              "    .dataframe tbody tr th {\n",
              "        vertical-align: top;\n",
              "    }\n",
              "\n",
              "    .dataframe thead th {\n",
              "        text-align: right;\n",
              "    }\n",
              "</style>\n",
              "<table border=\"1\" class=\"dataframe\">\n",
              "  <thead>\n",
              "    <tr style=\"text-align: right;\">\n",
              "      <th></th>\n",
              "      <th>name</th>\n",
              "      <th>number_employers</th>\n",
              "      <th>number_vacancies</th>\n",
              "    </tr>\n",
              "  </thead>\n",
              "  <tbody>\n",
              "    <tr>\n",
              "      <th>0</th>\n",
              "      <td>Россия</td>\n",
              "      <td>410</td>\n",
              "      <td>0</td>\n",
              "    </tr>\n",
              "    <tr>\n",
              "      <th>1</th>\n",
              "      <td>Казахстан</td>\n",
              "      <td>207</td>\n",
              "      <td>0</td>\n",
              "    </tr>\n",
              "    <tr>\n",
              "      <th>2</th>\n",
              "      <td>Московская область</td>\n",
              "      <td>75</td>\n",
              "      <td>0</td>\n",
              "    </tr>\n",
              "    <tr>\n",
              "      <th>3</th>\n",
              "      <td>Краснодарский край</td>\n",
              "      <td>19</td>\n",
              "      <td>0</td>\n",
              "    </tr>\n",
              "    <tr>\n",
              "      <th>4</th>\n",
              "      <td>Ростовская область</td>\n",
              "      <td>18</td>\n",
              "      <td>0</td>\n",
              "    </tr>\n",
              "    <tr>\n",
              "      <th>...</th>\n",
              "      <td>...</td>\n",
              "      <td>...</td>\n",
              "      <td>...</td>\n",
              "    </tr>\n",
              "    <tr>\n",
              "      <th>588</th>\n",
              "      <td>Скидель</td>\n",
              "      <td>0</td>\n",
              "      <td>0</td>\n",
              "    </tr>\n",
              "    <tr>\n",
              "      <th>589</th>\n",
              "      <td>Белоозерск</td>\n",
              "      <td>0</td>\n",
              "      <td>0</td>\n",
              "    </tr>\n",
              "    <tr>\n",
              "      <th>590</th>\n",
              "      <td>Орловский</td>\n",
              "      <td>0</td>\n",
              "      <td>0</td>\n",
              "    </tr>\n",
              "    <tr>\n",
              "      <th>591</th>\n",
              "      <td>Павловская</td>\n",
              "      <td>0</td>\n",
              "      <td>0</td>\n",
              "    </tr>\n",
              "    <tr>\n",
              "      <th>592</th>\n",
              "      <td>Таксимо</td>\n",
              "      <td>0</td>\n",
              "      <td>0</td>\n",
              "    </tr>\n",
              "  </tbody>\n",
              "</table>\n",
              "<p>593 rows × 3 columns</p>\n",
              "</div>"
            ],
            "text/plain": [
              "                   name  number_employers  number_vacancies\n",
              "0                Россия               410                 0\n",
              "1             Казахстан               207                 0\n",
              "2    Московская область                75                 0\n",
              "3    Краснодарский край                19                 0\n",
              "4    Ростовская область                18                 0\n",
              "..                  ...               ...               ...\n",
              "588             Скидель                 0                 0\n",
              "589          Белоозерск                 0                 0\n",
              "590           Орловский                 0                 0\n",
              "591          Павловская                 0                 0\n",
              "592             Таксимо                 0                 0\n",
              "\n",
              "[593 rows x 3 columns]"
            ]
          },
          "execution_count": 25,
          "metadata": {},
          "output_type": "execute_result"
        }
      ],
      "source": [
        "# результат запроса\n",
        "popular_area"
      ]
    },
    {
      "attachments": {},
      "cell_type": "markdown",
      "id": "f2fe0acb-ab1a-4e15-9326-2560e22d73c1",
      "metadata": {
        "id": "f2fe0acb-ab1a-4e15-9326-2560e22d73c1"
      },
      "source": [
        "3. Для каждого работодателя посчитайте количество регионов, в которых он публикует свои вакансии. Отсортируйте результат по убыванию количества.\n"
      ]
    },
    {
      "cell_type": "code",
      "execution_count": 26,
      "id": "6271f8ad-bd2e-4196-ae4a-5b39c4c1010e",
      "metadata": {
        "id": "6271f8ad-bd2e-4196-ae4a-5b39c4c1010e"
      },
      "outputs": [
        {
          "name": "stderr",
          "output_type": "stream",
          "text": [
            "/var/folders/72/b69zs3rx1vvdfb_qtlhy8szh0000gn/T/ipykernel_24704/463771964.py:10: UserWarning: pandas only supports SQLAlchemy connectable (engine/connection) or database string URI or sqlite3 DBAPI2 connection. Other DBAPI2 objects are not tested. Please consider using SQLAlchemy.\n",
            "  employer_in_area = pd.read_sql_query (query_5_3, connection)\n"
          ]
        }
      ],
      "source": [
        "# текст запроса\n",
        "query_5_3 = f''' \n",
        "               select e.name,\n",
        "               count(distinct v.area_id)\n",
        "               from employers e \n",
        "               join vacancies v on v.employer_id = e.id \n",
        "               group by 1\n",
        "               order by 2 desc\n",
        "               '''\n",
        "employer_in_area = pd.read_sql_query (query_5_3, connection)"
      ]
    },
    {
      "cell_type": "code",
      "execution_count": 27,
      "id": "1EIvX3HasH4F",
      "metadata": {
        "id": "1EIvX3HasH4F"
      },
      "outputs": [
        {
          "data": {
            "text/html": [
              "<div>\n",
              "<style scoped>\n",
              "    .dataframe tbody tr th:only-of-type {\n",
              "        vertical-align: middle;\n",
              "    }\n",
              "\n",
              "    .dataframe tbody tr th {\n",
              "        vertical-align: top;\n",
              "    }\n",
              "\n",
              "    .dataframe thead th {\n",
              "        text-align: right;\n",
              "    }\n",
              "</style>\n",
              "<table border=\"1\" class=\"dataframe\">\n",
              "  <thead>\n",
              "    <tr style=\"text-align: right;\">\n",
              "      <th></th>\n",
              "      <th>name</th>\n",
              "      <th>count</th>\n",
              "    </tr>\n",
              "  </thead>\n",
              "  <tbody>\n",
              "    <tr>\n",
              "      <th>0</th>\n",
              "      <td>Яндекс</td>\n",
              "      <td>181</td>\n",
              "    </tr>\n",
              "    <tr>\n",
              "      <th>1</th>\n",
              "      <td>Ростелеком</td>\n",
              "      <td>152</td>\n",
              "    </tr>\n",
              "    <tr>\n",
              "      <th>2</th>\n",
              "      <td>Спецремонт</td>\n",
              "      <td>116</td>\n",
              "    </tr>\n",
              "    <tr>\n",
              "      <th>3</th>\n",
              "      <td>Поляков Денис Иванович</td>\n",
              "      <td>88</td>\n",
              "    </tr>\n",
              "    <tr>\n",
              "      <th>4</th>\n",
              "      <td>ООО ЕФИН</td>\n",
              "      <td>71</td>\n",
              "    </tr>\n",
              "    <tr>\n",
              "      <th>...</th>\n",
              "      <td>...</td>\n",
              "      <td>...</td>\n",
              "    </tr>\n",
              "    <tr>\n",
              "      <th>14761</th>\n",
              "      <td>UniSol</td>\n",
              "      <td>1</td>\n",
              "    </tr>\n",
              "    <tr>\n",
              "      <th>14762</th>\n",
              "      <td>UNISTORY LLC</td>\n",
              "      <td>1</td>\n",
              "    </tr>\n",
              "    <tr>\n",
              "      <th>14763</th>\n",
              "      <td>UNIT6</td>\n",
              "      <td>1</td>\n",
              "    </tr>\n",
              "    <tr>\n",
              "      <th>14764</th>\n",
              "      <td>United Distribution</td>\n",
              "      <td>1</td>\n",
              "    </tr>\n",
              "    <tr>\n",
              "      <th>14765</th>\n",
              "      <td>UNITEL LLC</td>\n",
              "      <td>1</td>\n",
              "    </tr>\n",
              "  </tbody>\n",
              "</table>\n",
              "<p>14766 rows × 2 columns</p>\n",
              "</div>"
            ],
            "text/plain": [
              "                         name  count\n",
              "0                      Яндекс    181\n",
              "1                  Ростелеком    152\n",
              "2                  Спецремонт    116\n",
              "3      Поляков Денис Иванович     88\n",
              "4                   ООО ЕФИН      71\n",
              "...                       ...    ...\n",
              "14761                  UniSol      1\n",
              "14762            UNISTORY LLC      1\n",
              "14763                   UNIT6      1\n",
              "14764     United Distribution      1\n",
              "14765              UNITEL LLC      1\n",
              "\n",
              "[14766 rows x 2 columns]"
            ]
          },
          "execution_count": 27,
          "metadata": {},
          "output_type": "execute_result"
        }
      ],
      "source": [
        "# результат запроса\n",
        "employer_in_area"
      ]
    },
    {
      "attachments": {},
      "cell_type": "markdown",
      "id": "eab2206d-d95b-468b-8e5f-34381abf0ce7",
      "metadata": {
        "id": "eab2206d-d95b-468b-8e5f-34381abf0ce7"
      },
      "source": [
        "4. Напишите запрос для подсчёта количества работодателей, у которых не указана сфера деятельности. "
      ]
    },
    {
      "cell_type": "code",
      "execution_count": 28,
      "id": "80defb23-bfb1-4a18-8be6-bf36aa7165d5",
      "metadata": {
        "id": "80defb23-bfb1-4a18-8be6-bf36aa7165d5"
      },
      "outputs": [
        {
          "name": "stderr",
          "output_type": "stream",
          "text": [
            "/var/folders/72/b69zs3rx1vvdfb_qtlhy8szh0000gn/T/ipykernel_24704/2284024760.py:9: UserWarning: pandas only supports SQLAlchemy connectable (engine/connection) or database string URI or sqlite3 DBAPI2 connection. Other DBAPI2 objects are not tested. Please consider using SQLAlchemy.\n",
            "  cnt_employer = pd.read_sql_query (query_5_4, connection)\n"
          ]
        }
      ],
      "source": [
        "# текст запроса\n",
        "query_5_4 = f''' \n",
        "               select count(e.id) cnt_employer\n",
        "               from employers e \n",
        "               full join employers_industries i on e.id = i.employer_id\n",
        "               where industry_id is null\n",
        "               order by 1 desc\n",
        "               '''\n",
        "cnt_employer = pd.read_sql_query (query_5_4, connection)"
      ]
    },
    {
      "cell_type": "code",
      "execution_count": 29,
      "id": "Dp_yCx6ysQSu",
      "metadata": {
        "id": "Dp_yCx6ysQSu"
      },
      "outputs": [
        {
          "data": {
            "text/html": [
              "<div>\n",
              "<style scoped>\n",
              "    .dataframe tbody tr th:only-of-type {\n",
              "        vertical-align: middle;\n",
              "    }\n",
              "\n",
              "    .dataframe tbody tr th {\n",
              "        vertical-align: top;\n",
              "    }\n",
              "\n",
              "    .dataframe thead th {\n",
              "        text-align: right;\n",
              "    }\n",
              "</style>\n",
              "<table border=\"1\" class=\"dataframe\">\n",
              "  <thead>\n",
              "    <tr style=\"text-align: right;\">\n",
              "      <th></th>\n",
              "      <th>cnt_employer</th>\n",
              "    </tr>\n",
              "  </thead>\n",
              "  <tbody>\n",
              "    <tr>\n",
              "      <th>0</th>\n",
              "      <td>8419</td>\n",
              "    </tr>\n",
              "  </tbody>\n",
              "</table>\n",
              "</div>"
            ],
            "text/plain": [
              "   cnt_employer\n",
              "0          8419"
            ]
          },
          "execution_count": 29,
          "metadata": {},
          "output_type": "execute_result"
        }
      ],
      "source": [
        "# результат запроса\n",
        "cnt_employer"
      ]
    },
    {
      "attachments": {},
      "cell_type": "markdown",
      "id": "0112af31-f6b0-4e3b-82ab-71296e752e5e",
      "metadata": {
        "id": "0112af31-f6b0-4e3b-82ab-71296e752e5e"
      },
      "source": [
        "5. Напишите запрос, чтобы узнать название компании, находящейся на третьем месте в алфавитном списке (по названию) компаний, у которых указано четыре сферы деятельности. "
      ]
    },
    {
      "cell_type": "code",
      "execution_count": 30,
      "id": "973b0cfc-a972-470a-8b4a-68744ef220c4",
      "metadata": {
        "id": "973b0cfc-a972-470a-8b4a-68744ef220c4"
      },
      "outputs": [
        {
          "name": "stderr",
          "output_type": "stream",
          "text": [
            "/var/folders/72/b69zs3rx1vvdfb_qtlhy8szh0000gn/T/ipykernel_24704/40434934.py:11: UserWarning: pandas only supports SQLAlchemy connectable (engine/connection) or database string URI or sqlite3 DBAPI2 connection. Other DBAPI2 objects are not tested. Please consider using SQLAlchemy.\n",
            "  third_employer = pd.read_sql_query (query_5_5, connection)\n"
          ]
        }
      ],
      "source": [
        "\n",
        "# текст запроса\n",
        "query_5_5 = f''' \n",
        "               select e.name name_employer\n",
        "               from employers e \n",
        "               left join employers_industries i on e.id = i.employer_id\n",
        "               group by 1\n",
        "               having count(industry_id) = 4\n",
        "               order by 1 \n",
        "               offset 2 limit 1\n",
        "               '''\n",
        "third_employer = pd.read_sql_query (query_5_5, connection)"
      ]
    },
    {
      "cell_type": "code",
      "execution_count": 31,
      "id": "xsPtpp8EsaED",
      "metadata": {
        "id": "xsPtpp8EsaED"
      },
      "outputs": [
        {
          "data": {
            "text/html": [
              "<div>\n",
              "<style scoped>\n",
              "    .dataframe tbody tr th:only-of-type {\n",
              "        vertical-align: middle;\n",
              "    }\n",
              "\n",
              "    .dataframe tbody tr th {\n",
              "        vertical-align: top;\n",
              "    }\n",
              "\n",
              "    .dataframe thead th {\n",
              "        text-align: right;\n",
              "    }\n",
              "</style>\n",
              "<table border=\"1\" class=\"dataframe\">\n",
              "  <thead>\n",
              "    <tr style=\"text-align: right;\">\n",
              "      <th></th>\n",
              "      <th>name_employer</th>\n",
              "    </tr>\n",
              "  </thead>\n",
              "  <tbody>\n",
              "    <tr>\n",
              "      <th>0</th>\n",
              "      <td>2ГИС</td>\n",
              "    </tr>\n",
              "  </tbody>\n",
              "</table>\n",
              "</div>"
            ],
            "text/plain": [
              "  name_employer\n",
              "0          2ГИС"
            ]
          },
          "execution_count": 31,
          "metadata": {},
          "output_type": "execute_result"
        }
      ],
      "source": [
        "# результат запроса\n",
        "third_employer"
      ]
    },
    {
      "attachments": {},
      "cell_type": "markdown",
      "id": "3bfcfdaf-755d-4d2b-8ed8-326201dc07ab",
      "metadata": {
        "id": "3bfcfdaf-755d-4d2b-8ed8-326201dc07ab"
      },
      "source": [
        "6. С помощью запроса выясните, у какого количества работодателей в качестве сферы деятельности указана Разработка программного обеспечения.\n"
      ]
    },
    {
      "cell_type": "code",
      "execution_count": 32,
      "id": "ad3f270f-2991-47eb-929b-e8f88a55b0d1",
      "metadata": {
        "id": "ad3f270f-2991-47eb-929b-e8f88a55b0d1"
      },
      "outputs": [
        {
          "name": "stderr",
          "output_type": "stream",
          "text": [
            "/var/folders/72/b69zs3rx1vvdfb_qtlhy8szh0000gn/T/ipykernel_24704/947814861.py:12: UserWarning: pandas only supports SQLAlchemy connectable (engine/connection) or database string URI or sqlite3 DBAPI2 connection. Other DBAPI2 objects are not tested. Please consider using SQLAlchemy.\n",
            "  software = pd.read_sql_query (query_5_6, connection)\n"
          ]
        }
      ],
      "source": [
        "# текст запроса\n",
        "query_5_6 = f''' \n",
        "               select \n",
        "               count(e.id) cnt_employer\n",
        "               from employers e \n",
        "               join employers_industries e_i on e.id = e_i.employer_id\n",
        "               join industries i on i.id = e_i.industry_id\n",
        "               where i.name = 'Разработка программного обеспечения'\n",
        "               group by i.name \n",
        "               order by 1 \n",
        "               '''\n",
        "software = pd.read_sql_query (query_5_6, connection)"
      ]
    },
    {
      "cell_type": "code",
      "execution_count": 33,
      "id": "H72qxWM0shPR",
      "metadata": {
        "id": "H72qxWM0shPR"
      },
      "outputs": [
        {
          "data": {
            "text/html": [
              "<div>\n",
              "<style scoped>\n",
              "    .dataframe tbody tr th:only-of-type {\n",
              "        vertical-align: middle;\n",
              "    }\n",
              "\n",
              "    .dataframe tbody tr th {\n",
              "        vertical-align: top;\n",
              "    }\n",
              "\n",
              "    .dataframe thead th {\n",
              "        text-align: right;\n",
              "    }\n",
              "</style>\n",
              "<table border=\"1\" class=\"dataframe\">\n",
              "  <thead>\n",
              "    <tr style=\"text-align: right;\">\n",
              "      <th></th>\n",
              "      <th>cnt_employer</th>\n",
              "    </tr>\n",
              "  </thead>\n",
              "  <tbody>\n",
              "    <tr>\n",
              "      <th>0</th>\n",
              "      <td>3553</td>\n",
              "    </tr>\n",
              "  </tbody>\n",
              "</table>\n",
              "</div>"
            ],
            "text/plain": [
              "   cnt_employer\n",
              "0          3553"
            ]
          },
          "execution_count": 33,
          "metadata": {},
          "output_type": "execute_result"
        }
      ],
      "source": [
        "# результат запроса\n",
        "software "
      ]
    },
    {
      "attachments": {},
      "cell_type": "markdown",
      "id": "7b02bb86-0546-40fb-94a4-242f050a5c57",
      "metadata": {
        "id": "7b02bb86-0546-40fb-94a4-242f050a5c57"
      },
      "source": [
        "7. Для компании «Яндекс» выведите список регионов-миллионников, в которых представлены вакансии компании, вместе с количеством вакансий в этих регионах. Также добавьте строку Total с общим количеством вакансий компании. Результат отсортируйте по возрастанию количества.\n",
        "\n",
        "Список городов-милионников надо взять [отсюда](https://ru.wikipedia.org/wiki/%D0%93%D0%BE%D1%80%D0%BE%D0%B4%D0%B0-%D0%BC%D0%B8%D0%BB%D0%BB%D0%B8%D0%BE%D0%BD%D0%B5%D1%80%D1%8B_%D0%A0%D0%BE%D1%81%D1%81%D0%B8%D0%B8). \n",
        "\n",
        "Если возникнут трудности с этим задание посмотрите материалы модуля  PYTHON-17. Как получать данные из веб-источников и API. "
      ]
    },
    {
      "cell_type": "code",
      "execution_count": 34,
      "id": "2927fce7",
      "metadata": {},
      "outputs": [
        {
          "name": "stdout",
          "output_type": "stream",
          "text": [
            "Requirement already satisfied: lxml in /Library/Frameworks/Python.framework/Versions/3.9/lib/python3.9/site-packages (4.9.2)\n",
            "Note: you may need to restart the kernel to use updated packages.\n"
          ]
        }
      ],
      "source": [
        "pip install lxml "
      ]
    },
    {
      "cell_type": "code",
      "execution_count": 35,
      "id": "df6732a6",
      "metadata": {},
      "outputs": [
        {
          "name": "stdout",
          "output_type": "stream",
          "text": [
            "('Москва', 'Санкт-Петербург', 'Новосибирск', 'Екатеринбург', 'Казань', 'Нижний Новгород', 'Красноярск', 'Челябинск', 'Самара', 'Уфа', 'Ростов-на-Дону', 'Краснодар', 'Омск', 'Воронеж', 'Пермь', 'Волгоград')\n"
          ]
        }
      ],
      "source": [
        "# код для получения списка городов-милионников\n",
        "tables = pd.read_html('https://ru.wikipedia.org/wiki/%D0%93%D0%BE%D1%80%D0%BE%D0%B4%D0%B0-%D0%BC%D0%B8%D0%BB%D0%BB%D0%B8%D0%BE%D0%BD%D0%B5%D1%80%D1%8B_%D0%A0%D0%BE%D1%81%D1%81%D0%B8%D0%B8')\n",
        "df = tables[1]\n",
        "\n",
        "cities = tuple(df['Город'])\n",
        "print(cities)"
      ]
    },
    {
      "cell_type": "code",
      "execution_count": 36,
      "id": "5a0e32a4-e68a-4365-8a39-2fe24c542c36",
      "metadata": {
        "id": "5a0e32a4-e68a-4365-8a39-2fe24c542c36"
      },
      "outputs": [
        {
          "name": "stdout",
          "output_type": "stream",
          "text": [
            "<bound method DataFrame.info of                name    cnt\n",
            "0              Омск   21.0\n",
            "1         Челябинск   22.0\n",
            "2        Красноярск   23.0\n",
            "3         Волгоград   24.0\n",
            "4             Пермь   25.0\n",
            "5            Казань   25.0\n",
            "6    Ростов-на-Дону   25.0\n",
            "7               Уфа   26.0\n",
            "8            Самара   26.0\n",
            "9         Краснодар   30.0\n",
            "10          Воронеж   32.0\n",
            "11      Новосибирск   35.0\n",
            "12  Нижний Новгород   36.0\n",
            "13     Екатеринбург   39.0\n",
            "14  Санкт-Петербург   42.0\n",
            "15           Москва   54.0\n",
            "16            Total  485.0>\n"
          ]
        },
        {
          "name": "stderr",
          "output_type": "stream",
          "text": [
            "/var/folders/72/b69zs3rx1vvdfb_qtlhy8szh0000gn/T/ipykernel_24704/1767898261.py:23: UserWarning: pandas only supports SQLAlchemy connectable (engine/connection) or database string URI or sqlite3 DBAPI2 connection. Other DBAPI2 objects are not tested. Please consider using SQLAlchemy.\n",
            "  yandex_in_cities = pd.read_sql_query (query_5_7, connection)\n"
          ]
        }
      ],
      "source": [
        "# текст запроса\n",
        "query_5_7 = f''' \n",
        "              with x as\n",
        "               (select a.name,\n",
        "               count(v.id) as cnt\n",
        "               from vacancies v\n",
        "               left join employers e on v.employer_id = e.id\n",
        "               left join areas a on a.id = v.area_id\n",
        "               where e.name = 'Яндекс'\n",
        "               and a.name in {cities}\n",
        "               Group by 1\n",
        "               order by 2 asc)\n",
        "               \n",
        "               \n",
        "               select *\n",
        "               from x\n",
        "               union\n",
        "               select\n",
        "               'Total',\n",
        "               sum(cnt) -- общая сумма вакансий\n",
        "               from x\n",
        "               order by 2 asc -- ну и сортируем по количеству вакансий по возрастанию'''\n",
        "yandex_in_cities = pd.read_sql_query (query_5_7, connection)             \n",
        "print(yandex_in_cities.info)"
      ]
    },
    {
      "cell_type": "code",
      "execution_count": 37,
      "id": "ttPhiO1rsvPq",
      "metadata": {
        "id": "ttPhiO1rsvPq"
      },
      "outputs": [
        {
          "data": {
            "text/html": [
              "<div>\n",
              "<style scoped>\n",
              "    .dataframe tbody tr th:only-of-type {\n",
              "        vertical-align: middle;\n",
              "    }\n",
              "\n",
              "    .dataframe tbody tr th {\n",
              "        vertical-align: top;\n",
              "    }\n",
              "\n",
              "    .dataframe thead th {\n",
              "        text-align: right;\n",
              "    }\n",
              "</style>\n",
              "<table border=\"1\" class=\"dataframe\">\n",
              "  <thead>\n",
              "    <tr style=\"text-align: right;\">\n",
              "      <th></th>\n",
              "      <th>name</th>\n",
              "      <th>cnt</th>\n",
              "    </tr>\n",
              "  </thead>\n",
              "  <tbody>\n",
              "    <tr>\n",
              "      <th>0</th>\n",
              "      <td>Омск</td>\n",
              "      <td>21.0</td>\n",
              "    </tr>\n",
              "    <tr>\n",
              "      <th>1</th>\n",
              "      <td>Челябинск</td>\n",
              "      <td>22.0</td>\n",
              "    </tr>\n",
              "    <tr>\n",
              "      <th>2</th>\n",
              "      <td>Красноярск</td>\n",
              "      <td>23.0</td>\n",
              "    </tr>\n",
              "    <tr>\n",
              "      <th>3</th>\n",
              "      <td>Волгоград</td>\n",
              "      <td>24.0</td>\n",
              "    </tr>\n",
              "    <tr>\n",
              "      <th>4</th>\n",
              "      <td>Пермь</td>\n",
              "      <td>25.0</td>\n",
              "    </tr>\n",
              "    <tr>\n",
              "      <th>5</th>\n",
              "      <td>Казань</td>\n",
              "      <td>25.0</td>\n",
              "    </tr>\n",
              "    <tr>\n",
              "      <th>6</th>\n",
              "      <td>Ростов-на-Дону</td>\n",
              "      <td>25.0</td>\n",
              "    </tr>\n",
              "    <tr>\n",
              "      <th>7</th>\n",
              "      <td>Уфа</td>\n",
              "      <td>26.0</td>\n",
              "    </tr>\n",
              "    <tr>\n",
              "      <th>8</th>\n",
              "      <td>Самара</td>\n",
              "      <td>26.0</td>\n",
              "    </tr>\n",
              "    <tr>\n",
              "      <th>9</th>\n",
              "      <td>Краснодар</td>\n",
              "      <td>30.0</td>\n",
              "    </tr>\n",
              "    <tr>\n",
              "      <th>10</th>\n",
              "      <td>Воронеж</td>\n",
              "      <td>32.0</td>\n",
              "    </tr>\n",
              "    <tr>\n",
              "      <th>11</th>\n",
              "      <td>Новосибирск</td>\n",
              "      <td>35.0</td>\n",
              "    </tr>\n",
              "    <tr>\n",
              "      <th>12</th>\n",
              "      <td>Нижний Новгород</td>\n",
              "      <td>36.0</td>\n",
              "    </tr>\n",
              "    <tr>\n",
              "      <th>13</th>\n",
              "      <td>Екатеринбург</td>\n",
              "      <td>39.0</td>\n",
              "    </tr>\n",
              "    <tr>\n",
              "      <th>14</th>\n",
              "      <td>Санкт-Петербург</td>\n",
              "      <td>42.0</td>\n",
              "    </tr>\n",
              "    <tr>\n",
              "      <th>15</th>\n",
              "      <td>Москва</td>\n",
              "      <td>54.0</td>\n",
              "    </tr>\n",
              "    <tr>\n",
              "      <th>16</th>\n",
              "      <td>Total</td>\n",
              "      <td>485.0</td>\n",
              "    </tr>\n",
              "  </tbody>\n",
              "</table>\n",
              "</div>"
            ],
            "text/plain": [
              "               name    cnt\n",
              "0              Омск   21.0\n",
              "1         Челябинск   22.0\n",
              "2        Красноярск   23.0\n",
              "3         Волгоград   24.0\n",
              "4             Пермь   25.0\n",
              "5            Казань   25.0\n",
              "6    Ростов-на-Дону   25.0\n",
              "7               Уфа   26.0\n",
              "8            Самара   26.0\n",
              "9         Краснодар   30.0\n",
              "10          Воронеж   32.0\n",
              "11      Новосибирск   35.0\n",
              "12  Нижний Новгород   36.0\n",
              "13     Екатеринбург   39.0\n",
              "14  Санкт-Петербург   42.0\n",
              "15           Москва   54.0\n",
              "16            Total  485.0"
            ]
          },
          "execution_count": 37,
          "metadata": {},
          "output_type": "execute_result"
        }
      ],
      "source": [
        "# результат запроса\n",
        "yandex_in_cities      \n"
      ]
    },
    {
      "attachments": {},
      "cell_type": "markdown",
      "id": "04966e40-3bc3-4dc8-9ba2-e80580ce3abc",
      "metadata": {
        "id": "04966e40-3bc3-4dc8-9ba2-e80580ce3abc"
      },
      "source": [
        "***"
      ]
    },
    {
      "attachments": {},
      "cell_type": "markdown",
      "id": "3a434b2b",
      "metadata": {},
      "source": [
        "# выводы по анализу работодателей\n",
        "Теперь перейдем к не менее интересным выводам в результате детального анализа работодателей:\n",
        "- Пятерка лидеров работодателей по количеству предоставляемых вакансий представлена гигантами отечественного бизнеса: Яндекс, Ростелеком, Тинькофф, СБЕР и Газпром нефть. Лидерующую позицию занимает Яндекс, на его долю приходится 1933 вакансии, что не удивительно, т к Яндекс представляет собой стабильно развивающуюся компанию в области информационных технологий и регулярно нуждается в пополнении штата сотрудников\n",
        "- Несмотря на широкую география предоставляемых вакансий, есть объекты, в которых наши работодатели не нуждаются в новых сотрудниках. Лидерующую позицию в данном вопросе занимает Россия (410 компаний с нулевыми вакансиями) и Казахстан (207 компаний с нулевыми компаниями). Этот показатель интересен тем, что наглядно показывает, как меняется видение картины в результате детального анализа по сравнению с расчетом среднего. Помните в предварительным анализе мы предполагали, что на каждый регион приходится по 36 вакансий, теперь мы лучше видим и понимаем реальное положение дел.\n",
        "- При рассмотрении работодателей по количеству регионов, в которых они публикуют свои вакансии, первенство принадлежит компании Яндекс (публикует свои вакансии в 181 регионе). Здесь ничего удивительно и соответсвует данным из первого вывода, на долю Яндекс приходится 1933 вакансии и логично было ожидать, что новые сотрудники нужны в большом количестве регионов. Однако, в данном запросе мое внимание привлекло 4 место в рейтинге по географии регионов, которое занимает некое ИП (предположительно, т к правовая форма не указана) Поляков Денис Иванович. Удивительно, что ИП необходимы сотрудники в 88 регионах, и на момент публикации у данного работодателя было открыто 127 вакансий. И здесь у меня два предположения: либо это организация с колоссальной текучкой кадров, либо это мошенническая организация (ну и третий вариант: и то, и то). Вот такие любопытные факты можно найти при анализе данных. \n",
        "- Говоря о любопытных и странных фактах, поражает, что 8419 организации не указали сферу деятельности для потенциальных сотрудников, что действительно странно и наводит на мысль о некой небрежности или халатности со стороны работодателя, и опять же это может означать превышение предложения над спросом в соискателях\n",
        "- Однако, все же есть компании, которые действительно нуждаются в новых кадрах,причем сразу в четырех сферах деятельности. Среди них: 101 Интернет, 21vek.by, 2ГИС (на 3-м месте), 2К и пр.\n",
        "- Если мы говорим о детальном анализе, то давайте рассмотрим детально некоторые его параметры. Например, 13% работодателей ищут кандитов в сфере разработки программного обеспечения. Зная такие запросы, соискатель может оценивать, на что сейчас спрос и на что следует сделать упор\n",
        "- И еще немного про Яндекс. Данная компания предлагает вакансии в каждом из 16 городов-миллионнике. Всего 485 вакансий в данных городах, большая часть которых приходится на Москву и Санкт-Петербург (54 и 42 вакансии соответственно). Очередная ода компании Яндекс. Очень хочется в будующем увидеть достойных конкурентов и развитие экономики в целом."
      ]
    },
    {
      "attachments": {},
      "cell_type": "markdown",
      "id": "b1ef156a-efcb-49ce-bb23-90763e7f35b2",
      "metadata": {
        "id": "b1ef156a-efcb-49ce-bb23-90763e7f35b2",
        "tags": []
      },
      "source": [
        "# Юнит 6. Предметный анализ"
      ]
    },
    {
      "attachments": {},
      "cell_type": "markdown",
      "id": "b9cd50a0-992d-4988-8463-2b2b1c4629b4",
      "metadata": {
        "id": "b9cd50a0-992d-4988-8463-2b2b1c4629b4"
      },
      "source": [
        "1. Сколько вакансий имеет отношение к данным?\n",
        "\n",
        "Считаем, что вакансия имеет отношение к данным, если в её названии содержатся слова 'data' или 'данн'.\n",
        "\n",
        "*Подсказка: Обратите внимание, что названия вакансий могут быть написаны в любом регистре.* \n"
      ]
    },
    {
      "cell_type": "code",
      "execution_count": 38,
      "id": "54ab0e50-c0f1-47cc-a54b-bc5c8bc363f9",
      "metadata": {
        "id": "54ab0e50-c0f1-47cc-a54b-bc5c8bc363f9"
      },
      "outputs": [
        {
          "name": "stderr",
          "output_type": "stream",
          "text": [
            "/var/folders/72/b69zs3rx1vvdfb_qtlhy8szh0000gn/T/ipykernel_24704/4120565077.py:8: UserWarning: pandas only supports SQLAlchemy connectable (engine/connection) or database string URI or sqlite3 DBAPI2 connection. Other DBAPI2 objects are not tested. Please consider using SQLAlchemy.\n",
            "  data_vacancy = pd.read_sql_query (query_6_1, connection)\n"
          ]
        }
      ],
      "source": [
        "# текст запроса\n",
        "query_6_1 = f''' \n",
        "               select \n",
        "               count(v.name) \n",
        "               from vacancies v\n",
        "               where (lower(v.name) like '%data%') or (lower(v.name) like '%данн%')\n",
        "               '''\n",
        "data_vacancy = pd.read_sql_query (query_6_1, connection)\n"
      ]
    },
    {
      "cell_type": "code",
      "execution_count": 39,
      "id": "9F1meAqsuUjd",
      "metadata": {
        "id": "9F1meAqsuUjd"
      },
      "outputs": [
        {
          "data": {
            "text/html": [
              "<div>\n",
              "<style scoped>\n",
              "    .dataframe tbody tr th:only-of-type {\n",
              "        vertical-align: middle;\n",
              "    }\n",
              "\n",
              "    .dataframe tbody tr th {\n",
              "        vertical-align: top;\n",
              "    }\n",
              "\n",
              "    .dataframe thead th {\n",
              "        text-align: right;\n",
              "    }\n",
              "</style>\n",
              "<table border=\"1\" class=\"dataframe\">\n",
              "  <thead>\n",
              "    <tr style=\"text-align: right;\">\n",
              "      <th></th>\n",
              "      <th>count</th>\n",
              "    </tr>\n",
              "  </thead>\n",
              "  <tbody>\n",
              "    <tr>\n",
              "      <th>0</th>\n",
              "      <td>1771</td>\n",
              "    </tr>\n",
              "  </tbody>\n",
              "</table>\n",
              "</div>"
            ],
            "text/plain": [
              "   count\n",
              "0   1771"
            ]
          },
          "execution_count": 39,
          "metadata": {},
          "output_type": "execute_result"
        }
      ],
      "source": [
        "# результат запроса\n",
        "data_vacancy"
      ]
    },
    {
      "attachments": {},
      "cell_type": "markdown",
      "id": "4dea20cb-a36b-474a-a0b9-e08e8e3857a5",
      "metadata": {
        "id": "4dea20cb-a36b-474a-a0b9-e08e8e3857a5"
      },
      "source": [
        "2. Сколько есть подходящих вакансий для начинающего дата-сайентиста? \n",
        "Будем считать вакансиями для дата-сайентистов такие, в названии которых есть хотя бы одно из следующих сочетаний:\n",
        "* 'data scientist'\n",
        "* 'data science'\n",
        "* 'исследователь данных'\n",
        "* 'ML' (здесь не нужно брать вакансии по HTML)\n",
        "* 'machine learning'\n",
        "* 'машинн%обучен%'\n",
        "\n",
        "** В следующих заданиях мы продолжим работать с вакансиями по этому условию.*\n",
        "\n",
        "Считаем вакансиями для специалистов уровня Junior следующие:\n",
        "* в названии есть слово 'junior' *или*\n",
        "* требуемый опыт — Нет опыта *или*\n",
        "* тип трудоустройства — Стажировка.\n",
        " "
      ]
    },
    {
      "cell_type": "code",
      "execution_count": 40,
      "id": "9c61b3c0-bb66-46c9-ae1e-81d3f5752b4a",
      "metadata": {
        "id": "9c61b3c0-bb66-46c9-ae1e-81d3f5752b4a"
      },
      "outputs": [
        {
          "name": "stderr",
          "output_type": "stream",
          "text": [
            "/var/folders/72/b69zs3rx1vvdfb_qtlhy8szh0000gn/T/ipykernel_24704/1697338757.py:15: UserWarning: pandas only supports SQLAlchemy connectable (engine/connection) or database string URI or sqlite3 DBAPI2 connection. Other DBAPI2 objects are not tested. Please consider using SQLAlchemy.\n",
            "  junior_vacancy = pd.read_sql_query(query_6_2, connection)\n"
          ]
        }
      ],
      "source": [
        "# текст запроса\n",
        "query_6_2 = f''' \n",
        "               select \n",
        "               count(name) v_junior\n",
        "               from vacancies \n",
        "               where (lower(name) like '%data scientist%' \n",
        "               or lower(name)  like '%data science%' \n",
        "               or lower(name)  like '%исследователь данных%' \n",
        "               or (name like '%ML%' and name not like '%HTML%')  \n",
        "               or lower(name)  like '%machine learning%' \n",
        "               or lower(name) like '%машинн%обучен%%')\n",
        "               and \n",
        "               (lower(name) like '%junior%' or experience = 'Нет опыта' or employment = 'Стажировка')\n",
        "               '''\n",
        "junior_vacancy = pd.read_sql_query(query_6_2, connection)"
      ]
    },
    {
      "cell_type": "code",
      "execution_count": 41,
      "id": "ZNM-LLYuu1dj",
      "metadata": {
        "id": "ZNM-LLYuu1dj"
      },
      "outputs": [
        {
          "data": {
            "text/html": [
              "<div>\n",
              "<style scoped>\n",
              "    .dataframe tbody tr th:only-of-type {\n",
              "        vertical-align: middle;\n",
              "    }\n",
              "\n",
              "    .dataframe tbody tr th {\n",
              "        vertical-align: top;\n",
              "    }\n",
              "\n",
              "    .dataframe thead th {\n",
              "        text-align: right;\n",
              "    }\n",
              "</style>\n",
              "<table border=\"1\" class=\"dataframe\">\n",
              "  <thead>\n",
              "    <tr style=\"text-align: right;\">\n",
              "      <th></th>\n",
              "      <th>v_junior</th>\n",
              "    </tr>\n",
              "  </thead>\n",
              "  <tbody>\n",
              "    <tr>\n",
              "      <th>0</th>\n",
              "      <td>51</td>\n",
              "    </tr>\n",
              "  </tbody>\n",
              "</table>\n",
              "</div>"
            ],
            "text/plain": [
              "   v_junior\n",
              "0        51"
            ]
          },
          "execution_count": 41,
          "metadata": {},
          "output_type": "execute_result"
        }
      ],
      "source": [
        "# результат запроса\n",
        "junior_vacancy"
      ]
    },
    {
      "attachments": {},
      "cell_type": "markdown",
      "id": "eedceb80-c5ca-480e-b27a-278dfb8b4438",
      "metadata": {
        "id": "eedceb80-c5ca-480e-b27a-278dfb8b4438"
      },
      "source": [
        "3. Сколько есть вакансий для DS, в которых в качестве ключевого навыка указан SQL или postgres?\n",
        "\n",
        "** Критерии для отнесения вакансии к DS указаны в предыдущем задании.*"
      ]
    },
    {
      "cell_type": "code",
      "execution_count": 42,
      "id": "69621713-0cc5-4f1b-a1d7-bb144fa6148c",
      "metadata": {
        "id": "69621713-0cc5-4f1b-a1d7-bb144fa6148c"
      },
      "outputs": [
        {
          "name": "stderr",
          "output_type": "stream",
          "text": [
            "/var/folders/72/b69zs3rx1vvdfb_qtlhy8szh0000gn/T/ipykernel_24704/1697730858.py:15: UserWarning: pandas only supports SQLAlchemy connectable (engine/connection) or database string URI or sqlite3 DBAPI2 connection. Other DBAPI2 objects are not tested. Please consider using SQLAlchemy.\n",
            "  skills = pd.read_sql_query (query_6_3, connection)\n"
          ]
        }
      ],
      "source": [
        "# текст запроса\n",
        "query_6_3 = f''' \n",
        "               select \n",
        "               count(key_skills) \n",
        "               from vacancies \n",
        "               where (lower(name) like '%data scientist%' \n",
        "               or lower(name)  like '%data science%' \n",
        "               or lower(name)  like '%исследователь данных%' \n",
        "               or (name like '%ML%' and name not like '%HTML%')  \n",
        "               or lower(name)  like '%machine learning%' \n",
        "               or lower(name) like '%машинн%обучен%%')\n",
        "               and \n",
        "               (key_skills like '%SQL%' or key_skills like '%postgres%')\n",
        "               '''\n",
        "skills = pd.read_sql_query (query_6_3, connection)"
      ]
    },
    {
      "cell_type": "code",
      "execution_count": 43,
      "id": "alA8WEAAvGdf",
      "metadata": {
        "id": "alA8WEAAvGdf"
      },
      "outputs": [
        {
          "data": {
            "text/html": [
              "<div>\n",
              "<style scoped>\n",
              "    .dataframe tbody tr th:only-of-type {\n",
              "        vertical-align: middle;\n",
              "    }\n",
              "\n",
              "    .dataframe tbody tr th {\n",
              "        vertical-align: top;\n",
              "    }\n",
              "\n",
              "    .dataframe thead th {\n",
              "        text-align: right;\n",
              "    }\n",
              "</style>\n",
              "<table border=\"1\" class=\"dataframe\">\n",
              "  <thead>\n",
              "    <tr style=\"text-align: right;\">\n",
              "      <th></th>\n",
              "      <th>count</th>\n",
              "    </tr>\n",
              "  </thead>\n",
              "  <tbody>\n",
              "    <tr>\n",
              "      <th>0</th>\n",
              "      <td>201</td>\n",
              "    </tr>\n",
              "  </tbody>\n",
              "</table>\n",
              "</div>"
            ],
            "text/plain": [
              "   count\n",
              "0    201"
            ]
          },
          "execution_count": 43,
          "metadata": {},
          "output_type": "execute_result"
        }
      ],
      "source": [
        "# результат запроса\n",
        "skills "
      ]
    },
    {
      "attachments": {},
      "cell_type": "markdown",
      "id": "1be1e9c6-37cf-4a5f-bfeb-04cab799dc80",
      "metadata": {
        "id": "1be1e9c6-37cf-4a5f-bfeb-04cab799dc80"
      },
      "source": [
        "4. Проверьте, насколько популярен Python в требованиях работодателей к DS.Для этого вычислите количество вакансий, в которых в качестве ключевого навыка указан Python.\n",
        "\n",
        "** Это можно сделать помощью запроса, аналогичного предыдущему.*"
      ]
    },
    {
      "cell_type": "code",
      "execution_count": 44,
      "id": "0036a355-9ccf-4564-8b01-73d8194297e7",
      "metadata": {
        "id": "0036a355-9ccf-4564-8b01-73d8194297e7"
      },
      "outputs": [
        {
          "name": "stderr",
          "output_type": "stream",
          "text": [
            "/var/folders/72/b69zs3rx1vvdfb_qtlhy8szh0000gn/T/ipykernel_24704/3007447554.py:15: UserWarning: pandas only supports SQLAlchemy connectable (engine/connection) or database string URI or sqlite3 DBAPI2 connection. Other DBAPI2 objects are not tested. Please consider using SQLAlchemy.\n",
            "  popular_python = pd.read_sql_query(query_6_4, connection)\n"
          ]
        }
      ],
      "source": [
        "# текст запроса\n",
        "query_6_4 = f''' \n",
        "               select \n",
        "               count(key_skills) \n",
        "               from vacancies \n",
        "               where (lower(name) like '%data scientist%' \n",
        "               or lower(name)  like '%data science%' \n",
        "               or lower(name)  like '%исследователь данных%' \n",
        "               or (name like '%ML%' and name not like '%HTML%')  \n",
        "               or lower(name)  like '%machine learning%' \n",
        "               or lower(name) like '%машинн%обучен%%')\n",
        "               and \n",
        "               (key_skills like '%Python%')\n",
        "               '''\n",
        "popular_python = pd.read_sql_query(query_6_4, connection)"
      ]
    },
    {
      "cell_type": "code",
      "execution_count": 45,
      "id": "1i-5WyucvQ6v",
      "metadata": {
        "id": "1i-5WyucvQ6v"
      },
      "outputs": [
        {
          "data": {
            "text/html": [
              "<div>\n",
              "<style scoped>\n",
              "    .dataframe tbody tr th:only-of-type {\n",
              "        vertical-align: middle;\n",
              "    }\n",
              "\n",
              "    .dataframe tbody tr th {\n",
              "        vertical-align: top;\n",
              "    }\n",
              "\n",
              "    .dataframe thead th {\n",
              "        text-align: right;\n",
              "    }\n",
              "</style>\n",
              "<table border=\"1\" class=\"dataframe\">\n",
              "  <thead>\n",
              "    <tr style=\"text-align: right;\">\n",
              "      <th></th>\n",
              "      <th>count</th>\n",
              "    </tr>\n",
              "  </thead>\n",
              "  <tbody>\n",
              "    <tr>\n",
              "      <th>0</th>\n",
              "      <td>351</td>\n",
              "    </tr>\n",
              "  </tbody>\n",
              "</table>\n",
              "</div>"
            ],
            "text/plain": [
              "   count\n",
              "0    351"
            ]
          },
          "execution_count": 45,
          "metadata": {},
          "output_type": "execute_result"
        }
      ],
      "source": [
        "# результат запроса\n",
        "popular_python"
      ]
    },
    {
      "attachments": {},
      "cell_type": "markdown",
      "id": "ec3c8db7-fa21-4a41-a994-1af63742a642",
      "metadata": {
        "id": "ec3c8db7-fa21-4a41-a994-1af63742a642"
      },
      "source": [
        "5. Сколько ключевых навыков в среднем указывают в вакансиях для DS?\n",
        "Ответ округлите до двух знаков после точки-разделителя."
      ]
    },
    {
      "cell_type": "code",
      "execution_count": 46,
      "id": "949132bc-d5b6-4611-8218-0b9a504d74f4",
      "metadata": {
        "id": "949132bc-d5b6-4611-8218-0b9a504d74f4"
      },
      "outputs": [
        {
          "name": "stderr",
          "output_type": "stream",
          "text": [
            "/var/folders/72/b69zs3rx1vvdfb_qtlhy8szh0000gn/T/ipykernel_24704/3001978139.py:14: UserWarning: pandas only supports SQLAlchemy connectable (engine/connection) or database string URI or sqlite3 DBAPI2 connection. Other DBAPI2 objects are not tested. Please consider using SQLAlchemy.\n",
            "  core_skills = pd.read_sql_query(query_6_5, connection)\n"
          ]
        }
      ],
      "source": [
        "# текст запроса\n",
        "query_6_5 = f''' \n",
        "               select \n",
        "               round(avg(length(key_skills) -  length(replace(key_skills, CHR(9), '')) + 1), 2)\n",
        "               from vacancies \n",
        "               where (lower(name) like '%data scientist%' \n",
        "               or lower(name)  like '%data science%' \n",
        "               or lower(name)  like '%исследователь данных%' \n",
        "               or (name like '%ML%' and name not like '%HTML%')  \n",
        "               or lower(name)  like '%machine learning%' \n",
        "               or lower(name) like '%машинн%обучен%%')\n",
        "               and key_skills is not NULL\n",
        "               '''\n",
        "core_skills = pd.read_sql_query(query_6_5, connection)"
      ]
    },
    {
      "cell_type": "code",
      "execution_count": 47,
      "id": "a3V24Tvmviqk",
      "metadata": {
        "id": "a3V24Tvmviqk"
      },
      "outputs": [
        {
          "data": {
            "text/html": [
              "<div>\n",
              "<style scoped>\n",
              "    .dataframe tbody tr th:only-of-type {\n",
              "        vertical-align: middle;\n",
              "    }\n",
              "\n",
              "    .dataframe tbody tr th {\n",
              "        vertical-align: top;\n",
              "    }\n",
              "\n",
              "    .dataframe thead th {\n",
              "        text-align: right;\n",
              "    }\n",
              "</style>\n",
              "<table border=\"1\" class=\"dataframe\">\n",
              "  <thead>\n",
              "    <tr style=\"text-align: right;\">\n",
              "      <th></th>\n",
              "      <th>round</th>\n",
              "    </tr>\n",
              "  </thead>\n",
              "  <tbody>\n",
              "    <tr>\n",
              "      <th>0</th>\n",
              "      <td>6.41</td>\n",
              "    </tr>\n",
              "  </tbody>\n",
              "</table>\n",
              "</div>"
            ],
            "text/plain": [
              "   round\n",
              "0   6.41"
            ]
          },
          "execution_count": 47,
          "metadata": {},
          "output_type": "execute_result"
        }
      ],
      "source": [
        "# результат запроса\n",
        "core_skills"
      ]
    },
    {
      "attachments": {},
      "cell_type": "markdown",
      "id": "1041c17a-ca8f-4543-a0ca-32778914fb00",
      "metadata": {
        "id": "1041c17a-ca8f-4543-a0ca-32778914fb00"
      },
      "source": [
        "6. Напишите запрос, позволяющий вычислить, какую зарплату для DS в **среднем** указывают для каждого типа требуемого опыта (уникальное значение из поля *experience*). \n",
        "\n",
        "При решении задачи примите во внимание следующее:\n",
        "1. Рассматриваем только вакансии, у которых заполнено хотя бы одно из двух полей с зарплатой.\n",
        "2. Если заполнены оба поля с зарплатой, то считаем зарплату по каждой вакансии как сумму двух полей, делённую на 2. Если заполнено только одно из полей, то его и считаем зарплатой по вакансии.\n",
        "3. Если в расчётах участвует null, в результате он тоже даст null (посмотрите, что возвращает запрос select 1 + null). Чтобы избежать этой ситуацию, мы воспользуемся функцией [coalesce](https://postgrespro.ru/docs/postgresql/9.5/functions-conditional#functions-coalesce-nvl-ifnull), которая заменит null на значение, которое мы передадим. Например, посмотрите, что возвращает запрос `select 1 + coalesce(null, 0)`\n",
        "\n",
        "Выясните, на какую зарплату в среднем может рассчитывать дата-сайентист с опытом работы от 3 до 6 лет. Результат округлите до целого числа. "
      ]
    },
    {
      "cell_type": "code",
      "execution_count": 48,
      "id": "6a743d39-5204-48d3-8271-b9f88e68d40e",
      "metadata": {
        "id": "6a743d39-5204-48d3-8271-b9f88e68d40e"
      },
      "outputs": [
        {
          "name": "stderr",
          "output_type": "stream",
          "text": [
            "/var/folders/72/b69zs3rx1vvdfb_qtlhy8szh0000gn/T/ipykernel_24704/562640912.py:17: UserWarning: pandas only supports SQLAlchemy connectable (engine/connection) or database string URI or sqlite3 DBAPI2 connection. Other DBAPI2 objects are not tested. Please consider using SQLAlchemy.\n",
            "  salary = pd.read_sql_query(query_6_6, connection)\n"
          ]
        }
      ],
      "source": [
        "# текст запроса\n",
        "query_6_6 = f''' \n",
        "               select\n",
        "               experience,\n",
        "               round(AVG(coalesce((salary_from+salary_to)/2, salary_from, salary_to)))\n",
        "               from vacancies \n",
        "               where (lower(name) like '%data scientist%' \n",
        "               or lower(name)  like '%data science%' \n",
        "               or lower(name)  like '%исследователь данных%' \n",
        "               or (name like '%ML%' and name not like '%HTML%')  \n",
        "               or lower(name)  like '%machine learning%' \n",
        "               or lower(name) like '%машинн%обучен%%')\n",
        "               and (salary_from is not null or\n",
        "               salary_to is not null)\n",
        "               group by 1\n",
        "               '''\n",
        "salary = pd.read_sql_query(query_6_6, connection)"
      ]
    },
    {
      "cell_type": "code",
      "execution_count": 49,
      "id": "aRIJ0mZEwU1_",
      "metadata": {
        "id": "aRIJ0mZEwU1_"
      },
      "outputs": [
        {
          "data": {
            "text/html": [
              "<div>\n",
              "<style scoped>\n",
              "    .dataframe tbody tr th:only-of-type {\n",
              "        vertical-align: middle;\n",
              "    }\n",
              "\n",
              "    .dataframe tbody tr th {\n",
              "        vertical-align: top;\n",
              "    }\n",
              "\n",
              "    .dataframe thead th {\n",
              "        text-align: right;\n",
              "    }\n",
              "</style>\n",
              "<table border=\"1\" class=\"dataframe\">\n",
              "  <thead>\n",
              "    <tr style=\"text-align: right;\">\n",
              "      <th></th>\n",
              "      <th>experience</th>\n",
              "      <th>round</th>\n",
              "    </tr>\n",
              "  </thead>\n",
              "  <tbody>\n",
              "    <tr>\n",
              "      <th>0</th>\n",
              "      <td>Нет опыта</td>\n",
              "      <td>74643.0</td>\n",
              "    </tr>\n",
              "    <tr>\n",
              "      <th>1</th>\n",
              "      <td>От 1 года до 3 лет</td>\n",
              "      <td>139675.0</td>\n",
              "    </tr>\n",
              "    <tr>\n",
              "      <th>2</th>\n",
              "      <td>От 3 до 6 лет</td>\n",
              "      <td>243115.0</td>\n",
              "    </tr>\n",
              "  </tbody>\n",
              "</table>\n",
              "</div>"
            ],
            "text/plain": [
              "           experience     round\n",
              "0           Нет опыта   74643.0\n",
              "1  От 1 года до 3 лет  139675.0\n",
              "2       От 3 до 6 лет  243115.0"
            ]
          },
          "execution_count": 49,
          "metadata": {},
          "output_type": "execute_result"
        }
      ],
      "source": [
        "# результат запроса\n",
        "salary"
      ]
    },
    {
      "attachments": {},
      "cell_type": "markdown",
      "id": "6a7892b4-4113-4746-adce-18aa2844f18e",
      "metadata": {
        "id": "6a7892b4-4113-4746-adce-18aa2844f18e"
      },
      "source": [
        "***"
      ]
    },
    {
      "attachments": {},
      "cell_type": "markdown",
      "id": "4f302c75",
      "metadata": {},
      "source": [
        "# выводы по предметному анализу\n",
        "Теперь постараемся сделать выводы на основе предметного анализа, и в первую очередь нас интересует информация, которая относится к данным:\n",
        "- И таких вакансий у нас всего лишь 1771, что составляет 3,6% от общего числа открытых вакансий\n",
        "- Что еще более грустно, так это то, что только 51 начинающий специалист уровня Junior сможет найти свое место под солнцем, т к со стороны работодателя в основном нужны специалисты, начиная с уровня Middle с опытом работы от 1 года\n",
        "- Вышесказанное означает повышенную конкуренцию среди новичков, которым ничего не остается кроме, как двигаться дальше и пополнять свои знания такими навыками, как SQL или postgres. Для кандидатов с такими ключивыми навыками найдется 201 вакансия.\n",
        "- Ну а если в качестве ключевого навыка начинающий DS укажет Python, то его шансы на трудоустройство возрастут в пределах 351 открытой вакансии\n",
        "- В целом хочется отметить, что DS быть не престо, ведь потенциальный работодатель в среднем ожидает видеть не менее, чем 6.41 навыка на каждого сотрудника (видимо одним Python и SQL в копилке знаний не обойтись)\n",
        "- Но каждый упорный труд окупается. Так например, DS с опытом работы от 3-х лет может претендавать уже на зарплату куда выше (в среднем: 243115), чем \"молодой\" специалист (в среднем: 74643)"
      ]
    },
    {
      "attachments": {},
      "cell_type": "markdown",
      "id": "c0ED6fh7wiBT",
      "metadata": {
        "id": "c0ED6fh7wiBT"
      },
      "source": [
        "# Общий вывод по проекту"
      ]
    },
    {
      "attachments": {},
      "cell_type": "markdown",
      "id": "0f2500fa",
      "metadata": {},
      "source": [
        "# Подведем итог исследования\n",
        "И еще раз о главном: обобщим все вышесказанное. В исходных данных представлены 23501 работодателя, которые предлагают соискателям 49197 вакансии в 294 сферах деятельности и в 1362 различных регионах. Чуть более половины компаний предпочли не разглашать информацию о уровне зарплаты, на которую могут расчитывать соискатели, к которым, к слову,предъявляются высокие требования. Так, к примеру, чтобы получить заветную позицию на должности Data Science необходимо в среднем обладать не менее 6.4 навыками, при этом все хотят нанимать людей с уже имеющимся опытом, самый востребованный от 1 до 3 лет. Новичкам придется особенно трудно, т к на позицию Junior DS открыто только 51 вакансия, а это все лишь 2.9% от всех вакансий в данной сфере. \n",
        "Что касается самих работодателей, то компания Яндекс занимает лидирующую позицию по количеству предлагаемых вакансий и регионам, в которых их публикует. Наибольшая потребность в новых кадрах существует в крупных городах и административных центрах, что легко объясняется сосредоточением финансов и концентрацией принятия экономических и политических решений.\n",
        "Любые данные нуждаются в очисте, наши не исключение, т к у нас имеются компании, которые не предоставляют ни одной вакансии, это могут быть, как устаревшие данные и несвоевременное обновление, так и ошибочные. А такие данные ведут к искажению результата анализа и прогнозирования. \n",
        "Теперь давайте проведем дополнительное исследование и рассмотрим аспекеты, которые ранее не рассматривались. Мы имеем представление, как обстоят дела с вакансиями, которые имеют отношения к данным, а что другие сферы деятельности, посмотрим самые популярные вакансии, в ком нуждается рынок:"
      ]
    },
    {
      "cell_type": "code",
      "execution_count": 50,
      "id": "d66d9e76",
      "metadata": {},
      "outputs": [
        {
          "name": "stderr",
          "output_type": "stream",
          "text": [
            "/var/folders/72/b69zs3rx1vvdfb_qtlhy8szh0000gn/T/ipykernel_24704/420905899.py:9: UserWarning: pandas only supports SQLAlchemy connectable (engine/connection) or database string URI or sqlite3 DBAPI2 connection. Other DBAPI2 objects are not tested. Please consider using SQLAlchemy.\n",
            "  popular_occupation = pd.read_sql_query(extra_1_1, connection)\n"
          ]
        },
        {
          "data": {
            "text/html": [
              "<div>\n",
              "<style scoped>\n",
              "    .dataframe tbody tr th:only-of-type {\n",
              "        vertical-align: middle;\n",
              "    }\n",
              "\n",
              "    .dataframe tbody tr th {\n",
              "        vertical-align: top;\n",
              "    }\n",
              "\n",
              "    .dataframe thead th {\n",
              "        text-align: right;\n",
              "    }\n",
              "</style>\n",
              "<table border=\"1\" class=\"dataframe\">\n",
              "  <thead>\n",
              "    <tr style=\"text-align: right;\">\n",
              "      <th></th>\n",
              "      <th>name</th>\n",
              "      <th>count</th>\n",
              "    </tr>\n",
              "  </thead>\n",
              "  <tbody>\n",
              "    <tr>\n",
              "      <th>0</th>\n",
              "      <td>Системный администратор</td>\n",
              "      <td>1761</td>\n",
              "    </tr>\n",
              "    <tr>\n",
              "      <th>1</th>\n",
              "      <td>Программист 1С</td>\n",
              "      <td>1153</td>\n",
              "    </tr>\n",
              "    <tr>\n",
              "      <th>2</th>\n",
              "      <td>Бизнес-аналитик</td>\n",
              "      <td>488</td>\n",
              "    </tr>\n",
              "    <tr>\n",
              "      <th>3</th>\n",
              "      <td>Специалист технической поддержки</td>\n",
              "      <td>457</td>\n",
              "    </tr>\n",
              "    <tr>\n",
              "      <th>4</th>\n",
              "      <td>Системный аналитик</td>\n",
              "      <td>432</td>\n",
              "    </tr>\n",
              "    <tr>\n",
              "      <th>...</th>\n",
              "      <td>...</td>\n",
              "      <td>...</td>\n",
              "    </tr>\n",
              "    <tr>\n",
              "      <th>21218</th>\n",
              "      <td>Генеральный менеджер Проекта</td>\n",
              "      <td>1</td>\n",
              "    </tr>\n",
              "    <tr>\n",
              "      <th>21219</th>\n",
              "      <td>Ведущий инженер-программист (1С:УПП)</td>\n",
              "      <td>1</td>\n",
              "    </tr>\n",
              "    <tr>\n",
              "      <th>21220</th>\n",
              "      <td>Главный специалист IT направления</td>\n",
              "      <td>1</td>\n",
              "    </tr>\n",
              "    <tr>\n",
              "      <th>21221</th>\n",
              "      <td>Сотрудник Отдела информационных систем</td>\n",
              "      <td>1</td>\n",
              "    </tr>\n",
              "    <tr>\n",
              "      <th>21222</th>\n",
              "      <td>Старший финансовый менеджер</td>\n",
              "      <td>1</td>\n",
              "    </tr>\n",
              "  </tbody>\n",
              "</table>\n",
              "<p>21223 rows × 2 columns</p>\n",
              "</div>"
            ],
            "text/plain": [
              "                                         name  count\n",
              "0                     Системный администратор   1761\n",
              "1                              Программист 1С   1153\n",
              "2                             Бизнес-аналитик    488\n",
              "3            Специалист технической поддержки    457\n",
              "4                          Системный аналитик    432\n",
              "...                                       ...    ...\n",
              "21218            Генеральный менеджер Проекта      1\n",
              "21219    Ведущий инженер-программист (1С:УПП)      1\n",
              "21220       Главный специалист IT направления      1\n",
              "21221  Сотрудник Отдела информационных систем      1\n",
              "21222             Старший финансовый менеджер      1\n",
              "\n",
              "[21223 rows x 2 columns]"
            ]
          },
          "execution_count": 50,
          "metadata": {},
          "output_type": "execute_result"
        }
      ],
      "source": [
        "extra_1_1 = f''' \n",
        "               select\n",
        "               name,\n",
        "               count(id)\n",
        "               from vacancies \n",
        "               group by 1\n",
        "               order by 2 desc\n",
        "               '''\n",
        "popular_occupation = pd.read_sql_query(extra_1_1, connection)       \n",
        "popular_occupation       "
      ]
    },
    {
      "attachments": {},
      "cell_type": "markdown",
      "id": "050bc565",
      "metadata": {},
      "source": [
        "Мы видим, что на рынки наибольшую востребованность имеют профессии в области информационных технологий. \n",
        "Мне, как будующему IT- специалисту, интересны в первую очередь работодатели и ваканции, которые они предлагают для новичков, а именно без опыта работы. Посмотрим каково их число относительно всех вакансий, как рынок настроен на тех, кого еще только предстоит сделать профессионалами."
      ]
    },
    {
      "cell_type": "code",
      "execution_count": 51,
      "id": "39473eea",
      "metadata": {},
      "outputs": [
        {
          "name": "stderr",
          "output_type": "stream",
          "text": [
            "/var/folders/72/b69zs3rx1vvdfb_qtlhy8szh0000gn/T/ipykernel_24704/2512400237.py:22: UserWarning: pandas only supports SQLAlchemy connectable (engine/connection) or database string URI or sqlite3 DBAPI2 connection. Other DBAPI2 objects are not tested. Please consider using SQLAlchemy.\n",
            "  job_for_junior = pd.read_sql_query(extra_1_2, connection)\n"
          ]
        },
        {
          "data": {
            "text/html": [
              "<div>\n",
              "<style scoped>\n",
              "    .dataframe tbody tr th:only-of-type {\n",
              "        vertical-align: middle;\n",
              "    }\n",
              "\n",
              "    .dataframe tbody tr th {\n",
              "        vertical-align: top;\n",
              "    }\n",
              "\n",
              "    .dataframe thead th {\n",
              "        text-align: right;\n",
              "    }\n",
              "</style>\n",
              "<table border=\"1\" class=\"dataframe\">\n",
              "  <thead>\n",
              "    <tr style=\"text-align: right;\">\n",
              "      <th></th>\n",
              "      <th>name</th>\n",
              "      <th>junior</th>\n",
              "    </tr>\n",
              "  </thead>\n",
              "  <tbody>\n",
              "    <tr>\n",
              "      <th>0</th>\n",
              "      <td>Total</td>\n",
              "      <td>7933.0</td>\n",
              "    </tr>\n",
              "    <tr>\n",
              "      <th>1</th>\n",
              "      <td>Младший специалист ручного тестирования</td>\n",
              "      <td>169.0</td>\n",
              "    </tr>\n",
              "    <tr>\n",
              "      <th>2</th>\n",
              "      <td>Специалист службы поддержки в Яндекс Бизнес</td>\n",
              "      <td>168.0</td>\n",
              "    </tr>\n",
              "    <tr>\n",
              "      <th>3</th>\n",
              "      <td>Системный администратор</td>\n",
              "      <td>160.0</td>\n",
              "    </tr>\n",
              "    <tr>\n",
              "      <th>4</th>\n",
              "      <td>Специалист технической поддержки</td>\n",
              "      <td>125.0</td>\n",
              "    </tr>\n",
              "    <tr>\n",
              "      <th>5</th>\n",
              "      <td>Специалист службы поддержки пользователей</td>\n",
              "      <td>116.0</td>\n",
              "    </tr>\n",
              "    <tr>\n",
              "      <th>6</th>\n",
              "      <td>Специалист службы поддержки Рекламной сети Янд...</td>\n",
              "      <td>109.0</td>\n",
              "    </tr>\n",
              "    <tr>\n",
              "      <th>7</th>\n",
              "      <td>Сотрудник поддержки поиска Яндекса</td>\n",
              "      <td>99.0</td>\n",
              "    </tr>\n",
              "    <tr>\n",
              "      <th>8</th>\n",
              "      <td>Специалист службы поддержки с техническими зна...</td>\n",
              "      <td>84.0</td>\n",
              "    </tr>\n",
              "    <tr>\n",
              "      <th>9</th>\n",
              "      <td>Инженер-программист</td>\n",
              "      <td>83.0</td>\n",
              "    </tr>\n",
              "  </tbody>\n",
              "</table>\n",
              "</div>"
            ],
            "text/plain": [
              "                                                name  junior\n",
              "0                                              Total  7933.0\n",
              "1            Младший специалист ручного тестирования   169.0\n",
              "2        Специалист службы поддержки в Яндекс Бизнес   168.0\n",
              "3                            Системный администратор   160.0\n",
              "4                   Специалист технической поддержки   125.0\n",
              "5          Специалист службы поддержки пользователей   116.0\n",
              "6  Специалист службы поддержки Рекламной сети Янд...   109.0\n",
              "7                 Сотрудник поддержки поиска Яндекса    99.0\n",
              "8  Специалист службы поддержки с техническими зна...    84.0\n",
              "9                                Инженер-программист    83.0"
            ]
          },
          "execution_count": 51,
          "metadata": {},
          "output_type": "execute_result"
        }
      ],
      "source": [
        "extra_1_2 = f'''\n",
        "with x as\n",
        "(select \n",
        "               name,\n",
        "               count(id) as junior\n",
        "               from vacancies \n",
        "               where \n",
        "               lower(name) like '%junior%' or experience = 'Нет опыта' or employment = 'Стажировка'\n",
        "               group by 1\n",
        "               order by 2 desc)\n",
        "               select *\n",
        "               from x\n",
        "               union\n",
        "               select\n",
        "               'Total',\n",
        "               sum(junior) -- общая сумма вакансий\n",
        "               from x\n",
        "               order by 2 desc\n",
        "               limit 10\n",
        "               '''\n",
        "               \n",
        "job_for_junior = pd.read_sql_query(extra_1_2, connection)       \n",
        "job_for_junior    "
      ]
    },
    {
      "attachments": {},
      "cell_type": "markdown",
      "id": "d65aa96e",
      "metadata": {},
      "source": [
        "Итак, мы видим, что для специалистов всех сфер деятельности уровня junior предусмотрено 16.1% от общего числа вакансий, что не коррелируется с уровнев junior DS. Очередное доказательство высокой конкуренции среди начинающих DS. \n",
        "Больше всего рынок нуждается (отдает предпочтение) в разработке и поддержки программного обеспечения. Что логично, современным компания нужны инновационные решения в качестве конкурентного преимущества, ну и все это должно исправно работать. \n",
        "Хочется также отметить, что и здесь выделяется компания Яндекс, ни раз фигурирая в топ 10 работодателей для соискателей без опыта работы. Что ж, видимо стоит поблагодарить данную компанию, которая дает такую возможность. \n",
        "Хорошо, что же дальше? А дальше опять же мне, как человеку, искренне заинересованному найти свое место под солнцем, любопытно узнать, где же мои навыки могут быть применимы. В качестве ключевых навыков будим рассматривать то, что уже освоили, а именно Python, SQL или postgre, ну и не будем строить иллюзий, сразу делаем отсечение на опыт работы, т е с нуля. "
      ]
    },
    {
      "cell_type": "code",
      "execution_count": 52,
      "id": "04732856",
      "metadata": {},
      "outputs": [
        {
          "name": "stderr",
          "output_type": "stream",
          "text": [
            "/var/folders/72/b69zs3rx1vvdfb_qtlhy8szh0000gn/T/ipykernel_24704/2739860711.py:22: UserWarning: pandas only supports SQLAlchemy connectable (engine/connection) or database string URI or sqlite3 DBAPI2 connection. Other DBAPI2 objects are not tested. Please consider using SQLAlchemy.\n",
            "  hope_for_skills = pd.read_sql_query(extra_1_3, connection)\n"
          ]
        },
        {
          "data": {
            "text/html": [
              "<div>\n",
              "<style scoped>\n",
              "    .dataframe tbody tr th:only-of-type {\n",
              "        vertical-align: middle;\n",
              "    }\n",
              "\n",
              "    .dataframe tbody tr th {\n",
              "        vertical-align: top;\n",
              "    }\n",
              "\n",
              "    .dataframe thead th {\n",
              "        text-align: right;\n",
              "    }\n",
              "</style>\n",
              "<table border=\"1\" class=\"dataframe\">\n",
              "  <thead>\n",
              "    <tr style=\"text-align: right;\">\n",
              "      <th></th>\n",
              "      <th>name</th>\n",
              "      <th>cnt</th>\n",
              "    </tr>\n",
              "  </thead>\n",
              "  <tbody>\n",
              "    <tr>\n",
              "      <th>0</th>\n",
              "      <td>Total</td>\n",
              "      <td>1225.0</td>\n",
              "    </tr>\n",
              "    <tr>\n",
              "      <th>1</th>\n",
              "      <td>Инженер-программист</td>\n",
              "      <td>23.0</td>\n",
              "    </tr>\n",
              "    <tr>\n",
              "      <th>2</th>\n",
              "      <td>Программист С#</td>\n",
              "      <td>12.0</td>\n",
              "    </tr>\n",
              "    <tr>\n",
              "      <th>3</th>\n",
              "      <td>Программист</td>\n",
              "      <td>10.0</td>\n",
              "    </tr>\n",
              "    <tr>\n",
              "      <th>4</th>\n",
              "      <td>Системный аналитик</td>\n",
              "      <td>10.0</td>\n",
              "    </tr>\n",
              "    <tr>\n",
              "      <th>5</th>\n",
              "      <td>Junior Data Scientist (Валидация скоринговых м...</td>\n",
              "      <td>9.0</td>\n",
              "    </tr>\n",
              "    <tr>\n",
              "      <th>6</th>\n",
              "      <td>Системный администратор</td>\n",
              "      <td>9.0</td>\n",
              "    </tr>\n",
              "    <tr>\n",
              "      <th>7</th>\n",
              "      <td>Программист 1С</td>\n",
              "      <td>9.0</td>\n",
              "    </tr>\n",
              "    <tr>\n",
              "      <th>8</th>\n",
              "      <td>Специалист технической поддержки</td>\n",
              "      <td>8.0</td>\n",
              "    </tr>\n",
              "    <tr>\n",
              "      <th>9</th>\n",
              "      <td>Инженер в отдел ERP-систем</td>\n",
              "      <td>8.0</td>\n",
              "    </tr>\n",
              "  </tbody>\n",
              "</table>\n",
              "</div>"
            ],
            "text/plain": [
              "                                                name     cnt\n",
              "0                                              Total  1225.0\n",
              "1                                Инженер-программист    23.0\n",
              "2                                     Программист С#    12.0\n",
              "3                                        Программист    10.0\n",
              "4                                 Системный аналитик    10.0\n",
              "5  Junior Data Scientist (Валидация скоринговых м...     9.0\n",
              "6                            Системный администратор     9.0\n",
              "7                                     Программист 1С     9.0\n",
              "8                   Специалист технической поддержки     8.0\n",
              "9                         Инженер в отдел ERP-систем     8.0"
            ]
          },
          "execution_count": 52,
          "metadata": {},
          "output_type": "execute_result"
        }
      ],
      "source": [
        "extra_1_3 = f'''\n",
        "with x as\n",
        "(select \n",
        "               name,\n",
        "               count(id) as cnt\n",
        "               from vacancies\n",
        "               where (key_skills like '%SQL%' or key_skills like '%postgres%' or key_skills like '%Python%')\n",
        "               and (lower(name) like '%junior%' or experience = 'Нет опыта' or employment = 'Стажировка')\n",
        "               group by 1 \n",
        "               order by 2 desc)\n",
        "               select *\n",
        "               from x\n",
        "               union\n",
        "               select\n",
        "               'Total',\n",
        "               sum(cnt) -- общая сумма вакансий\n",
        "               from x\n",
        "               order by 2 desc\n",
        "               limit 10\n",
        "               '''\n",
        "               \n",
        "hope_for_skills = pd.read_sql_query(extra_1_3, connection)       \n",
        "hope_for_skills    "
      ]
    },
    {
      "attachments": {},
      "cell_type": "markdown",
      "id": "2d6b1e08",
      "metadata": {},
      "source": [
        "Это уже чуть лучше, чем 51 вакансия для Junior DS, но есть над чем работать, тем более, что каждый труд окупаем. Давайте посмотрим, как оценивается труд соискателей, а для наглядности визиализируем наши данные и зависимости между ними. Будем рассматривать ключевые зависимости: з/п от опыта работы, имеющихся навыков и количество вакансий в данной группировке. В качестве исходной возмем таблицу relationships. И сперва построим рапределение признака опыта работы (experience). И не забудим импортировать библиотеки, необходимые для постороения графиков."
      ]
    },
    {
      "cell_type": "code",
      "execution_count": 53,
      "id": "7f8f7bd8",
      "metadata": {},
      "outputs": [
        {
          "name": "stderr",
          "output_type": "stream",
          "text": [
            "/var/folders/72/b69zs3rx1vvdfb_qtlhy8szh0000gn/T/ipykernel_24704/3529525159.py:14: UserWarning: pandas only supports SQLAlchemy connectable (engine/connection) or database string URI or sqlite3 DBAPI2 connection. Other DBAPI2 objects are not tested. Please consider using SQLAlchemy.\n",
            "  relationships = pd.read_sql_query(extra_1_4, connection)\n"
          ]
        },
        {
          "data": {
            "text/html": [
              "<div>\n",
              "<style scoped>\n",
              "    .dataframe tbody tr th:only-of-type {\n",
              "        vertical-align: middle;\n",
              "    }\n",
              "\n",
              "    .dataframe tbody tr th {\n",
              "        vertical-align: top;\n",
              "    }\n",
              "\n",
              "    .dataframe thead th {\n",
              "        text-align: right;\n",
              "    }\n",
              "</style>\n",
              "<table border=\"1\" class=\"dataframe\">\n",
              "  <thead>\n",
              "    <tr style=\"text-align: right;\">\n",
              "      <th></th>\n",
              "      <th>name</th>\n",
              "      <th>experience</th>\n",
              "      <th>avg_sal</th>\n",
              "      <th>avg_skills</th>\n",
              "    </tr>\n",
              "  </thead>\n",
              "  <tbody>\n",
              "    <tr>\n",
              "      <th>0</th>\n",
              "      <td>СТО/Директор по разработке</td>\n",
              "      <td>От 3 до 6 лет</td>\n",
              "      <td>750000.0</td>\n",
              "      <td>21.0</td>\n",
              "    </tr>\n",
              "    <tr>\n",
              "      <th>1</th>\n",
              "      <td>Брокер по продаже апартаментов</td>\n",
              "      <td>От 1 года до 3 лет</td>\n",
              "      <td>750000.0</td>\n",
              "      <td>5.0</td>\n",
              "    </tr>\n",
              "    <tr>\n",
              "      <th>2</th>\n",
              "      <td>FullStack Developer in Unicorn Company</td>\n",
              "      <td>От 3 до 6 лет</td>\n",
              "      <td>717000.0</td>\n",
              "      <td>10.0</td>\n",
              "    </tr>\n",
              "    <tr>\n",
              "      <th>3</th>\n",
              "      <td>Frontend Developer in Unicorn Company</td>\n",
              "      <td>От 3 до 6 лет</td>\n",
              "      <td>717000.0</td>\n",
              "      <td>11.0</td>\n",
              "    </tr>\n",
              "    <tr>\n",
              "      <th>4</th>\n",
              "      <td>1С:Эксперт по производительности 1С</td>\n",
              "      <td>От 3 до 6 лет</td>\n",
              "      <td>650000.0</td>\n",
              "      <td>3.0</td>\n",
              "    </tr>\n",
              "    <tr>\n",
              "      <th>...</th>\n",
              "      <td>...</td>\n",
              "      <td>...</td>\n",
              "      <td>...</td>\n",
              "      <td>...</td>\n",
              "    </tr>\n",
              "    <tr>\n",
              "      <th>9841</th>\n",
              "      <td>PHP-программист (WordPress)</td>\n",
              "      <td>От 1 года до 3 лет</td>\n",
              "      <td>900.0</td>\n",
              "      <td>5.0</td>\n",
              "    </tr>\n",
              "    <tr>\n",
              "      <th>9842</th>\n",
              "      <td>Консультант 1С - бухгалтерия, зарплата</td>\n",
              "      <td>Более 6 лет</td>\n",
              "      <td>800.0</td>\n",
              "      <td>7.0</td>\n",
              "    </tr>\n",
              "    <tr>\n",
              "      <th>9843</th>\n",
              "      <td>Computer Vision Engineer</td>\n",
              "      <td>От 3 до 6 лет</td>\n",
              "      <td>300.0</td>\n",
              "      <td>7.0</td>\n",
              "    </tr>\n",
              "    <tr>\n",
              "      <th>9844</th>\n",
              "      <td>Middle+/Senior C# разработчик</td>\n",
              "      <td>От 3 до 6 лет</td>\n",
              "      <td>65.0</td>\n",
              "      <td>8.0</td>\n",
              "    </tr>\n",
              "    <tr>\n",
              "      <th>9845</th>\n",
              "      <td>Database Administrator (Администратор баз данных)</td>\n",
              "      <td>От 1 года до 3 лет</td>\n",
              "      <td>60.0</td>\n",
              "      <td>4.0</td>\n",
              "    </tr>\n",
              "  </tbody>\n",
              "</table>\n",
              "<p>9846 rows × 4 columns</p>\n",
              "</div>"
            ],
            "text/plain": [
              "                                                   name          experience  \\\n",
              "0                            СТО/Директор по разработке       От 3 до 6 лет   \n",
              "1                        Брокер по продаже апартаментов  От 1 года до 3 лет   \n",
              "2                FullStack Developer in Unicorn Company       От 3 до 6 лет   \n",
              "3                 Frontend Developer in Unicorn Company       От 3 до 6 лет   \n",
              "4                   1С:Эксперт по производительности 1С       От 3 до 6 лет   \n",
              "...                                                 ...                 ...   \n",
              "9841                        PHP-программист (WordPress)  От 1 года до 3 лет   \n",
              "9842             Консультант 1С - бухгалтерия, зарплата         Более 6 лет   \n",
              "9843                           Computer Vision Engineer       От 3 до 6 лет   \n",
              "9844                      Middle+/Senior C# разработчик       От 3 до 6 лет   \n",
              "9845  Database Administrator (Администратор баз данных)  От 1 года до 3 лет   \n",
              "\n",
              "       avg_sal  avg_skills  \n",
              "0     750000.0        21.0  \n",
              "1     750000.0         5.0  \n",
              "2     717000.0        10.0  \n",
              "3     717000.0        11.0  \n",
              "4     650000.0         3.0  \n",
              "...        ...         ...  \n",
              "9841     900.0         5.0  \n",
              "9842     800.0         7.0  \n",
              "9843     300.0         7.0  \n",
              "9844      65.0         8.0  \n",
              "9845      60.0         4.0  \n",
              "\n",
              "[9846 rows x 4 columns]"
            ]
          },
          "execution_count": 53,
          "metadata": {},
          "output_type": "execute_result"
        }
      ],
      "source": [
        "extra_1_4= f'''\n",
        "select\n",
        "               name,\n",
        "               experience,\n",
        "               round(AVG(coalesce((salary_from+salary_to)/2, salary_from, salary_to))) as avg_sal, -- средняя з/п для каждого типа требуемого опыта\n",
        "               round(avg(length(key_skills) -  length(replace(key_skills, CHR(9), '')) + 1), 2) as avg_skills\n",
        "               from vacancies \n",
        "               where (salary_from is not null or\n",
        "               salary_to is not null)\n",
        "               and key_skills is not NULL\n",
        "               group by 1, 2\n",
        "               order by 3 desc\n",
        "               '''              \n",
        "relationships = pd.read_sql_query(extra_1_4, connection)       \n",
        "relationships"
      ]
    },
    {
      "cell_type": "code",
      "execution_count": 54,
      "id": "7a349f4f",
      "metadata": {},
      "outputs": [],
      "source": [
        "import pandas as pd\n",
        "import matplotlib.pyplot as plt\n",
        "import seaborn as sns"
      ]
    },
    {
      "cell_type": "code",
      "execution_count": 55,
      "id": "eb56f7f5",
      "metadata": {},
      "outputs": [
        {
          "name": "stdout",
          "output_type": "stream",
          "text": [
            "60.0\n",
            "750000.0\n",
            "0    50000.0\n",
            "Name: avg_sal, dtype: float64\n"
          ]
        },
        {
          "data": {
            "image/png": "[encoded data removed]",
            "text/plain": [
              "<Figure size 1000x1000 with 2 Axes>"
            ]
          },
          "metadata": {},
          "output_type": "display_data"
        }
      ],
      "source": [
        "fig, axes = plt.subplots(nrows=2, ncols=1, figsize = (10,10))\n",
        "sns.histplot(\n",
        "    data=relationships,\n",
        "    x=\"avg_sal\",\n",
        "    bins=25,\n",
        "    kde=True,\n",
        "    ax=axes[0]\n",
        ");\n",
        "axes[0].set_title(\"Гистограмма распределения зарплаты\")\n",
        "axes[0].set_ylabel(\"count\")\n",
        "\n",
        "sns.boxplot(\n",
        "    data=relationships,\n",
        "    x='avg_sal',\n",
        "    orient=\"h\",\n",
        "    width=0.9,\n",
        "    ax=axes[1]\n",
        ");\n",
        "axes[1].set_title('Распределение зарплаты соискателей')    \n",
        "axes[1].set_xlabel('Уровень зарплаты')\n",
        "axes[1].grid()\n",
        "\n",
        "print(relationships[\"avg_sal\"].min())\n",
        "print(relationships[\"avg_sal\"].max())\n",
        "print(relationships[\"avg_sal\"].mode())"
      ]
    },
    {
      "attachments": {},
      "cell_type": "markdown",
      "id": "2e045afe",
      "metadata": {},
      "source": [
        "Мы построили гистограмму и коробчатую диаграмму рядом. Модальное значение з/п соответствует примерно 70 тысячам, большинство предлагаемых з/п находятся в интервале от 40 до  120000, мин. и макс. значения составляют 0 тыс. и 230 тыс. соответственно. На двух графиках хорошо видны выбросы, чтобы понять что это аномалии или реальные зарплаты нужен более детальный анализ.\n",
        "Построим сводную таблицу, иллюстрирующую зависимость медианной желаемой заработной платы от опыта работы и навыков соискателей. На полученной сводной таблице построим тепловую карту и сравним показатели внутри групп."
      ]
    },
    {
      "cell_type": "code",
      "execution_count": 56,
      "id": "e32e6b66",
      "metadata": {},
      "outputs": [
        {
          "data": {
            "text/plain": [
              "Text(50.72222222222221, 0.5, 'Опыт работы')"
            ]
          },
          "execution_count": 56,
          "metadata": {},
          "output_type": "execute_result"
        },
        {
          "data": {
            "image/png": "[encoded data removed]",
            "text/plain": [
              "<Figure size 640x480 with 2 Axes>"
            ]
          },
          "metadata": {},
          "output_type": "display_data"
        }
      ],
      "source": [
        "#Построим сводную таблицу, иллюстрирующую зависимость медианной желаемой заработной платы от опыта работы и навыков соискателей\n",
        "pivot = relationships.pivot_table(\n",
        "    values=\"avg_sal\",\n",
        "    index=\"experience\",\n",
        "    columns=\"avg_skills\",\n",
        "    aggfunc=\"median\"\n",
        ")\n",
        "\n",
        "#Построим график\n",
        "heatmap = sns.heatmap(data=pivot, cmap='PiYG')\n",
        "heatmap.set_title(\"Тепловая карта зависимости з/п от опыта работы и навыков соискателей\", fontsize=15)\n",
        "heatmap.set_xlabel(\"Количество необходимых навыков\")\n",
        "heatmap.set_ylabel(\"Опыт работы\")\n"
      ]
    },
    {
      "attachments": {},
      "cell_type": "markdown",
      "id": "0830e730",
      "metadata": {},
      "source": [
        "Согласно легенде справа, чем ближе цвет полосы к насыщенно зеленому, тем выше значение медианной зароботной платы. Тепловая карта наглядно иллюстрирует, что для категории соискателей, имеющих большой опыт работы, наблюдается самый интенсивный рост зарплаты и карьерный рост, в отличии от соискателей с минимальным или незначительным опытом (цвет насыщенно розовый). Также на тепловой карте мы видем, что для некоторых работодателей количество навыков не так уж и важно (к примеру, зеленому цвету на карте соответствуют средние значения навыков 4.5 или 7.3). Это еще раз подтверждает значимость признака \"опыт работы\" при прогнозировании заработной платы."
      ]
    },
    {
      "cell_type": "code",
      "execution_count": 57,
      "id": "08ad2016",
      "metadata": {},
      "outputs": [],
      "source": [
        "# не забываем закрыть соединение после окончания работы\n",
        "connection.close()"
      ]
    }
  ],
  "metadata": {
    "colab": {
      "collapsed_sections": [
        "8d62a9f3-f64e-4fe7-bdac-c4dffa16155e"
      ],
      "provenance": []
    },
    "kernelspec": {
      "display_name": "Python 3 (ipykernel)",
      "language": "python",
      "name": "python3"
    },
    "language_info": {
      "codemirror_mode": {
        "name": "ipython",
        "version": 3
      },
      "file_extension": ".py",
      "mimetype": "text/x-python",
      "name": "python",
      "nbconvert_exporter": "python",
      "pygments_lexer": "ipython3",
      "version": "3.9.10"
    }
  },
  "nbformat": 4,
  "nbformat_minor": 5
}
